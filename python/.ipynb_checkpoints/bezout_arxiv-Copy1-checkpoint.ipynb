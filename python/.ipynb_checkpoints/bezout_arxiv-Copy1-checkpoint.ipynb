{
 "cells": [
  {
   "cell_type": "code",
   "execution_count": 201,
   "metadata": {
    "collapsed": false
   },
   "outputs": [
    {
     "name": "stdout",
     "output_type": "stream",
     "text": [
      "sage_rank = 136\n",
      "numpy_rank = 136\n",
      "(162, 161) 136 1\n",
      "(162, 161) 136 0\n",
      "bbt\n",
      "(161, 161) 135 1\n",
      "(161, 160) 134 1\n",
      "(161, 159) 133 1\n",
      "(161, 158) 132 1\n",
      "(161, 157) 131 1\n",
      "(161, 156) 130 1\n",
      "(161, 155) 129 1\n",
      "(161, 154) 128 1\n",
      "(161, 154) 128 0\n"
     ]
    },
    {
     "data": {
      "text/plain": [
       "(array([ 7, 46, 42, 31,  1,  0,  0,  0,  0,  0,  0,  0,  0,  0,  0,  1]),\n",
       " array([-11.52376817, -10.82234652, -10.12092487,  -9.41950322,\n",
       "         -8.71808157,  -8.01665991,  -7.31523826,  -6.61381661,\n",
       "         -5.91239496,  -5.21097331,  -4.50955166,  -3.80813001,\n",
       "         -3.10670836,  -2.4052867 ,  -1.70386505,  -1.0024434 ,  -0.30102175]))"
      ]
     },
     "execution_count": 201,
     "metadata": {},
     "output_type": "execute_result"
    }
   ],
   "source": [
    "import numpy as np\n",
    "import scipy.linalg as la\n",
    "import time\n",
    "import bezout_5 as bz\n",
    "\n",
    "#TEX_DIR = '/home/jp/Documents/Bezout/bezout/tex/txt'\n",
    "TEX_DIR = '../tex/txt'\n",
    "\n",
    "deg = [3, 3, 3]\n",
    "\n",
    "with open(TEX_DIR+'/deg.txt', 'w') as f:\n",
    "    f.write(str(deg))\n",
    "    \n",
    "t = 3\n",
    "m = 16000\n",
    "n = len(deg)\n",
    "\n",
    "Field = QQ\n",
    "R = PolynomialRing(Field, 'x', n)\n",
    "x = R.gens()\n",
    "xx = [x[0]**0] + list(x)\n",
    "\n",
    "fshape = [d+1 for d in deg]\n",
    "dx = [(i+1)*deg[i] for i in range(n)]\n",
    "dy = [(n-i)*deg[i] for i in range(n)]\n",
    "fn, Dx, Dy = factorial(n), prod(dx), prod(dy)\n",
    "with open(TEX_DIR+'/Dx.txt', 'w') as f:\n",
    "    f.write(\"{0:d}\".format(Dx))\n",
    "\n",
    "\n",
    "P = [bz.rand_poly(n-1, m, deg, t, x) for i in range(n)] + xx\n",
    "#P = load('P.sobj')\n",
    "\n",
    "save(P, 'P')\n",
    "bz.P2txt(n, deg, P, TEX_DIR)\n",
    "F = [bz.poly2prism(fshape, p) for p in P]\n",
    "\n",
    "TEX_DIR\n",
    "\n",
    "t = time.clock()\n",
    "Gx, Gy, Hx, Hy = bz._GH(n, fn, deg, dx, dy)\n",
    "H, K = bz._HK(n, Hx, Hy)\n",
    "J = bz._J(Dx, Dy, F, n, fshape, dx, dy, Gx, Gy)\n",
    "C = bz._C(n, Dx, Dy, J)\n",
    "B = bz._B(n, Dx, Dy, H, K, C)\n",
    "\n",
    "construction_B_time = time.clock() - t\n",
    "with open(TEX_DIR+'/construction_B_time.txt', 'w') as f:\n",
    "    f.write(\"{0:.4f}\".format(construction_B_time))\n",
    "\n",
    "#B = bz.block_triang(n, Dx, Dy, dx, dy, deg, B)\n",
    "BB = []\n",
    "for k in range(n+1):\n",
    "        Bk = matrix(Field, B[k])\n",
    "        BB.append(Bk[:, :])\n",
    "bz.bz2txt(n, TEX_DIR, BB)\n",
    "\n",
    "\"\"\"\n",
    "computing rank of B0\n",
    "\"\"\"\n",
    "t = time.clock()\n",
    "r0 = rank(BB[0])\n",
    "rank_B0_time = time.clock() - t\n",
    "\n",
    "with open(TEX_DIR+'/rank_B0.txt', 'w') as f:\n",
    "    f.write(\"{0:d}\".format(r0))\n",
    "with open(TEX_DIR+'/rank_B0_time.txt', 'w') as f:\n",
    "    f.write(\"{0:.4f}\".format(rank_B0_time))\n",
    "print(\"sage_rank = {0:d}\".format(r0))\n",
    "\n",
    "bb = []\n",
    "for k in range(n+1):\n",
    "    bb.append(np.array(BB[k], dtype=float))\n",
    "\n",
    "b0 = bb[0]\n",
    "numpy_rank = np.linalg.matrix_rank(b0)\n",
    "print(\"numpy_rank = {0:d}\".format(numpy_rank))\n",
    "\n",
    "\"\"\"\n",
    "reduction of Bezoutian matrices\n",
    "\"\"\"\n",
    "epsi = abs(b0).max()/1.0e6\n",
    "\n",
    "t = time.clock()\n",
    "nb_relations = 1\n",
    "while nb_relations > 0:\n",
    "    bb, r0, nb_relations = bz.iteration(bb, r0, epsi)\n",
    "    print bb[0].shape, r0, nb_relations\n",
    "\n",
    "print \"bbt\"\n",
    "bbt = []\n",
    "for k in range(n+1):\n",
    "    bbt.append(bb[k].T)\n",
    "nb_relations = 1\n",
    "while nb_relations > 0:\n",
    "    bbt, r0, nb_relations = bz.iteration(bbt, r0, epsi)\n",
    "    print bbt[0].shape, r0, nb_relations\n",
    "reductions_time = time.clock() - t\n",
    "with open(TEX_DIR+'/bezout_dim.txt', 'w') as f:\n",
    "    f.write(\"{0:d}\".format(r0))\n",
    "with open(TEX_DIR+'/reductions_time.txt', 'w') as f:\n",
    "    f.write(\"{0:.4f}\".format(reductions_time))\n",
    "\n",
    "\"\"\"\n",
    "Numerical compation of the roots\n",
    "\"\"\"\n",
    "t = time.clock()\n",
    "bbt_roots = bz.bbt2roots(bbt, epsi, r0)\n",
    "compute_roots_time = time.clock() - t\n",
    "with open(TEX_DIR+'/compute_roots_time.txt', 'w') as f:\n",
    "    f.write(\"{0:.4f}\".format(compute_roots_time))\n",
    "\n",
    "test_bbtr = bz.roots_test(P, x, bbt_roots)\n",
    "test_roots = np.sort(test_bbtr[:])\n",
    "\n",
    "np.savetxt(TEX_DIR+'/test_roots.txt', test_roots,  fmt='%1.3e')\n",
    "\n",
    "hist, bin_edges = np.histogram(np.log10(test_roots), bins='scott')\n",
    "hist, bin_edges"
   ]
  },
  {
   "cell_type": "code",
   "execution_count": 40,
   "metadata": {
    "collapsed": false
   },
   "outputs": [],
   "source": [
    "with open(TEX_DIR+'/histogram.txt', 'w') as f:\n",
    "    for k in range(len(hist)):\n",
    "        nb_roots = hist[k]\n",
    "        left_bin, right_bin = bin_edges[k], bin_edges[k+1]\n",
    "        if nb_roots > 0:\n",
    "            if k < len(hist)-1:\n",
    "                f.write(\"$[{0:2.1f}, {1:2.1f}]$ & ${2:d}$\\\\\\\\\\n\".format(left_bin, right_bin, nb_roots))\n",
    "            else:\n",
    "                f.write(\"$[{0:2.1f}, {1:2.1f}]$ & ${2:d}$\\n\".format(left_bin, right_bin, nb_roots))"
   ]
  },
  {
   "cell_type": "code",
   "execution_count": 83,
   "metadata": {
    "collapsed": false
   },
   "outputs": [
    {
     "name": "stdout",
     "output_type": "stream",
     "text": [
      "146\n"
     ]
    }
   ],
   "source": [
    "t = time.clock()\n",
    "GB, grobner_dim = bz.compute_grobner(R, P, n)\n",
    "print grobner_dim\n",
    "grobner_time = time.clock() - t\n",
    "bz.gb2txt(TEX_DIR, GB)\n",
    "\n",
    "with open(TEX_DIR+'/grobner_dim.txt', 'w') as f:\n",
    "    f.write(\"{0}\".format(grobner_dim))\n",
    "\n",
    "with open(TEX_DIR+'/grobner_time.txt', 'w') as f:\n",
    "    f.write(\"{0:.4f}\".format(grobner_time))"
   ]
  },
  {
   "cell_type": "code",
   "execution_count": 13,
   "metadata": {
    "collapsed": true
   },
   "outputs": [],
   "source": [
    "with open(TEX_DIR+'/bezout_exact.txt', 'w') as f:\n",
    "    X = matrix(ZZ, Dx, 0)\n",
    "    X_ortho = X.kernel().basis_matrix().LLL().transpose()\n",
    "    Y, Y_time = bz.BB2Y(BB, X_ortho)\n",
    "    f.write(\"nb de Y-relations = {0:d}\\n\".format(Y.nrows()))\n",
    "\n",
    "    \n",
    "    K = bz.Y2K(BB[0], X_ortho, Y)\n",
    "    X_dim = Dx - K.nrows()\n",
    "    f.write(\"X_dim = {0:d}\\n\".format(X_dim))\n",
    "\n",
    "    \n",
    "    Y_ortho = Y.right_kernel_matrix().LLL()\n",
    "    X, X_time = bz.BB2X(BB, Y_ortho)\n",
    "    N = bz.X2N(BB[0], Y_ortho, X)\n",
    "    X_ortho = X.kernel().basis_matrix().LLL().transpose()\n",
    "    f.write(\"nb de X-relations = {0:d}\\n\".format(X.ncols()))"
   ]
  },
  {
   "cell_type": "code",
   "execution_count": 14,
   "metadata": {
    "collapsed": false
   },
   "outputs": [],
   "source": [
    "def find_Y(BB, B0Y):\n",
    "    nr, nc = BB[0].nrows(), BB[0].ncols()\n",
    "    while True:\n",
    "        old_nbr = B0Y.nrows()\n",
    "        print old_nbr\n",
    "        K_lambda = B0Y.kernel().basis_matrix()\n",
    "        K = K_lambda[:, 0:nc]\n",
    "        Y = matrix(Field, 0, nc)\n",
    "        for k in range(1, n+1):\n",
    "            Yk = K*BB[k]\n",
    "            Y = block_matrix(2, 1, [Y, Yk]).LLL()\n",
    "            nzr = bz.nzrows(Y) \n",
    "            Y = Y[nzr, :]\n",
    "        B0Y = block_matrix(2, 1, [BB[0], Y])\n",
    "        if B0Y.nrows() == old_nbr:\n",
    "            break\n",
    "            \n",
    "    return Y\n",
    "\n",
    "def P2field(p):\n",
    "    coeffs, monoms = p.coefficients(), p.monomials()\n",
    "    return sum([Field(coeffs[i])*monoms[i] for i in range(len(coeffs))])"
   ]
  },
  {
   "cell_type": "code",
   "execution_count": 202,
   "metadata": {
    "collapsed": false
   },
   "outputs": [
    {
     "name": "stdout",
     "output_type": "stream",
     "text": [
      "162\n",
      "163\n",
      "162\n",
      "164\n",
      "165\n",
      "166\n",
      "167\n",
      "168\n",
      "169\n",
      "----------\n",
      "136\n",
      "130\n",
      "130\n"
     ]
    }
   ],
   "source": [
    "B0Y = BB[0]\n",
    "Y = find_Y(BB, B0Y)\n",
    "\n",
    "BBt = []\n",
    "for k in range(n+1):\n",
    "    BBt.append(BB[k].transpose())\n",
    "B0Yt = B0Y.transpose()\n",
    "X = find_Y(BBt, B0Yt)\n",
    "\n",
    "print \"-\"*10\n",
    "Y_ortho = Y.right_kernel_matrix()\n",
    "bb0y = BB[0]*Y_ortho.transpose()\n",
    "print rank(bb0y)\n",
    "X_ortho = X.right_kernel_matrix()\n",
    "xbb0 = X_ortho*BB[0]\n",
    "print rank(xbb0)\n",
    "xbb0y = X_ortho*BB[0]*Y_ortho.transpose()\n",
    "print rank(xbb0y)\n"
   ]
  },
  {
   "cell_type": "code",
   "execution_count": 203,
   "metadata": {
    "collapsed": false
   },
   "outputs": [
    {
     "name": "stdout",
     "output_type": "stream",
     "text": [
      "bezout_exact_dim = 130\n"
     ]
    }
   ],
   "source": [
    "XBBY = []\n",
    "for k in range(n+1):\n",
    "    XBBY.append(X_ortho*BB[k]*Y_ortho.transpose())\n",
    "bezout_exact_dim = rank(XBBY[0])\n",
    "#f.write(\"bezout_exact_dim = {0:d}\\n\".format(bezout_exact_dim))\n",
    "print(\"bezout_exact_dim = {0:d}\".format(bezout_exact_dim))"
   ]
  },
  {
   "cell_type": "code",
   "execution_count": 204,
   "metadata": {
    "collapsed": false
   },
   "outputs": [],
   "source": [
    "K_ortho = XBBY[0].kernel().basis_matrix().right_kernel_matrix()\n",
    "N_ortho = XBBY[0].right_kernel_matrix().right_kernel_matrix()\n",
    "#N_ortho = N.kernel().basis_matrix().transpose()\n",
    "\n",
    "KBBN = []\n",
    "for k in range(n+1):\n",
    "    KBBN.append(K_ortho*XBBY[k]*N_ortho.transpose())"
   ]
  },
  {
   "cell_type": "code",
   "execution_count": 205,
   "metadata": {
    "collapsed": false
   },
   "outputs": [
    {
     "name": "stdout",
     "output_type": "stream",
     "text": [
      "test_XX = [(0, 0, 0, 0, 0, 0, 0, 0, 0, 0, 0, 0, 0, 0, 0, 0, 0, 0, 0, 0, 0, 0, 0, 0, 0, 0, 0, 0, 0, 0, 0, 0, 0, 0, 0, 0, 0, 0, 0, 0, 0, 0, 0, 0, 0, 0, 0, 0, 0, 0, 0, 0, 0, 0, 0, 0, 0, 0, 0, 0, 0, 0, 0, 0, 0, 0, 0, 0, 0, 0, 0, 0, 0, 0, 0, 0, 0, 0, 0, 0, 0, 0, 0, 0, 0, 0, 0, 0, 0, 0, 0, 0, 0, 0, 0, 0, 0, 0, 0, 0, 0, 0, 0, 0, 0, 0, 0, 0, 0, 0, 0, 0, 0, 0, 0, 0, 0, 0, 0, 0, 0, 0, 0, 0, 0, 0, 0, 0, 0, 0), (0, 0, 0, 0, 0, 0, 0, 0, 0, 0, 0, 0, 0, 0, 0, 0, 0, 0, 0, 0, 0, 0, 0, 0, 0, 0, 0, 0, 0, 0, 0, 0, 0, 0, 0, 0, 0, 0, 0, 0, 0, 0, 0, 0, 0, 0, 0, 0, 0, 0, 0, 0, 0, 0, 0, 0, 0, 0, 0, 0, 0, 0, 0, 0, 0, 0, 0, 0, 0, 0, 0, 0, 0, 0, 0, 0, 0, 0, 0, 0, 0, 0, 0, 0, 0, 0, 0, 0, 0, 0, 0, 0, 0, 0, 0, 0, 0, 0, 0, 0, 0, 0, 0, 0, 0, 0, 0, 0, 0, 0, 0, 0, 0, 0, 0, 0, 0, 0, 0, 0, 0, 0, 0, 0, 0, 0, 0, 0, 0, 0), (0, 0, 0, 0, 0, 0, 0, 0, 0, 0, 0, 0, 0, 0, 0, 0, 0, 0, 0, 0, 0, 0, 0, 0, 0, 0, 0, 0, 0, 0, 0, 0, 0, 0, 0, 0, 0, 0, 0, 0, 0, 0, 0, 0, 0, 0, 0, 0, 0, 0, 0, 0, 0, 0, 0, 0, 0, 0, 0, 0, 0, 0, 0, 0, 0, 0, 0, 0, 0, 0, 0, 0, 0, 0, 0, 0, 0, 0, 0, 0, 0, 0, 0, 0, 0, 0, 0, 0, 0, 0, 0, 0, 0, 0, 0, 0, 0, 0, 0, 0, 0, 0, 0, 0, 0, 0, 0, 0, 0, 0, 0, 0, 0, 0, 0, 0, 0, 0, 0, 0, 0, 0, 0, 0, 0, 0, 0, 0, 0, 0)]\n"
     ]
    }
   ],
   "source": [
    "Field = GF(next_prime(100))\n",
    "\n",
    "BBf = []\n",
    "for k in range(n+1):\n",
    "        Bk = matrix(Field, KBBN[k])\n",
    "        BBf.append(Bk[:, :])\n",
    "        \n",
    "if rank(BBf[0]) == bezout_exact_dim:\n",
    "    XX = []\n",
    "    for k in range(n):\n",
    "        xx = BBf[0].solve_right(BBf[k+1])\n",
    "        XX.append(xx)\n",
    "    Pf = [P2field(p) for p in P]\n",
    "    test_XX = [bz.X2p(XX, Field, p) for p in Pf[:n]]\n",
    "    #f.write(\"test_XX = {0:s}\".format(test_XX))\n",
    "    print(\"test_XX = {0:s}\".format(test_XX))\n",
    "else:\n",
    "        print \"rank deficiency !\""
   ]
  },
  {
   "cell_type": "code",
   "execution_count": 206,
   "metadata": {
    "collapsed": false
   },
   "outputs": [
    {
     "ename": "LinAlgError",
     "evalue": "Singular matrix",
     "output_type": "error",
     "traceback": [
      "\u001b[1;31m------------------------------------------------------------------------\u001b[0m",
      "\u001b[1;31mLinAlgError\u001b[0m                            Traceback (most recent call last)",
      "\u001b[1;32m<ipython-input-206-6ddc4dd4446b>\u001b[0m in \u001b[0;36m<module>\u001b[1;34m()\u001b[0m\n\u001b[0;32m      3\u001b[0m     \u001b[0mbb\u001b[0m\u001b[1;33m.\u001b[0m\u001b[0mappend\u001b[0m\u001b[1;33m(\u001b[0m\u001b[0mnp\u001b[0m\u001b[1;33m.\u001b[0m\u001b[0marray\u001b[0m\u001b[1;33m(\u001b[0m\u001b[0mKBBN\u001b[0m\u001b[1;33m[\u001b[0m\u001b[0mk\u001b[0m\u001b[1;33m]\u001b[0m\u001b[1;33m,\u001b[0m \u001b[0mdtype\u001b[0m\u001b[1;33m=\u001b[0m\u001b[0mfloat\u001b[0m\u001b[1;33m)\u001b[0m\u001b[1;33m)\u001b[0m\u001b[1;33m\u001b[0m\u001b[0m\n\u001b[0;32m      4\u001b[0m \u001b[0mroots\u001b[0m \u001b[1;33m=\u001b[0m \u001b[0mbz\u001b[0m\u001b[1;33m.\u001b[0m\u001b[0mBB2roots\u001b[0m\u001b[1;33m(\u001b[0m\u001b[0mbb\u001b[0m\u001b[1;33m)\u001b[0m\u001b[1;33m\u001b[0m\u001b[0m\n\u001b[1;32m----> 5\u001b[1;33m \u001b[0mtest_roots\u001b[0m \u001b[1;33m=\u001b[0m \u001b[0mbz\u001b[0m\u001b[1;33m.\u001b[0m\u001b[0mroots_test\u001b[0m\u001b[1;33m(\u001b[0m\u001b[0mP\u001b[0m\u001b[1;33m,\u001b[0m \u001b[0mx\u001b[0m\u001b[1;33m,\u001b[0m \u001b[0mroots\u001b[0m\u001b[1;33m)\u001b[0m\u001b[1;33m\u001b[0m\u001b[0m\n\u001b[0m\u001b[0;32m      6\u001b[0m \u001b[0mtest_roots\u001b[0m\u001b[1;33m\u001b[0m\u001b[0m\n",
      "\u001b[1;32m/home/jp/Documents/Bezout/bezout/python/bezout_5.pyc\u001b[0m in \u001b[0;36mroots_test\u001b[1;34m(P, x, roots)\u001b[0m\n\u001b[0;32m    453\u001b[0m                 \u001b[0mroot\u001b[0m \u001b[1;33m=\u001b[0m \u001b[0mroots\u001b[0m\u001b[1;33m[\u001b[0m\u001b[0mk\u001b[0m\u001b[1;33m,\u001b[0m \u001b[1;33m:\u001b[0m\u001b[1;33m]\u001b[0m\u001b[1;33m\u001b[0m\u001b[0m\n\u001b[0;32m    454\u001b[0m                 \u001b[0mpx\u001b[0m\u001b[1;33m,\u001b[0m \u001b[0mJx\u001b[0m \u001b[1;33m=\u001b[0m \u001b[0mevalP\u001b[0m\u001b[1;33m(\u001b[0m\u001b[0mP\u001b[0m\u001b[1;33m,\u001b[0m \u001b[0mx\u001b[0m\u001b[1;33m,\u001b[0m \u001b[0mroot\u001b[0m\u001b[1;33m)\u001b[0m\u001b[1;33m\u001b[0m\u001b[0m\n\u001b[1;32m--> 455\u001b[1;33m                 \u001b[0miJpx\u001b[0m \u001b[1;33m=\u001b[0m \u001b[0mnp\u001b[0m\u001b[1;33m.\u001b[0m\u001b[0mlinalg\u001b[0m\u001b[1;33m.\u001b[0m\u001b[0msolve\u001b[0m\u001b[1;33m(\u001b[0m\u001b[0mJx\u001b[0m\u001b[1;33m,\u001b[0m \u001b[0mpx\u001b[0m\u001b[1;33m)\u001b[0m\u001b[1;33m\u001b[0m\u001b[0m\n\u001b[0m\u001b[0;32m    456\u001b[0m                 \u001b[0mtest\u001b[0m\u001b[1;33m[\u001b[0m\u001b[0mk\u001b[0m\u001b[1;33m]\u001b[0m \u001b[1;33m=\u001b[0m \u001b[0mnp\u001b[0m\u001b[1;33m.\u001b[0m\u001b[0mlinalg\u001b[0m\u001b[1;33m.\u001b[0m\u001b[0mnorm\u001b[0m\u001b[1;33m(\u001b[0m\u001b[0miJpx\u001b[0m\u001b[1;33m)\u001b[0m\u001b[1;33m\u001b[0m\u001b[0m\n\u001b[0;32m    457\u001b[0m                 \u001b[0mtest_r\u001b[0m\u001b[1;33m[\u001b[0m\u001b[0mk\u001b[0m\u001b[1;33m]\u001b[0m \u001b[1;33m=\u001b[0m \u001b[0mnp\u001b[0m\u001b[1;33m.\u001b[0m\u001b[0mlinalg\u001b[0m\u001b[1;33m.\u001b[0m\u001b[0mnorm\u001b[0m\u001b[1;33m(\u001b[0m\u001b[0miJpx\u001b[0m\u001b[1;33m)\u001b[0m\u001b[1;33m/\u001b[0m\u001b[0mnp\u001b[0m\u001b[1;33m.\u001b[0m\u001b[0mlinalg\u001b[0m\u001b[1;33m.\u001b[0m\u001b[0mnorm\u001b[0m\u001b[1;33m(\u001b[0m\u001b[0mroot\u001b[0m\u001b[1;33m)\u001b[0m\u001b[1;33m\u001b[0m\u001b[0m\n",
      "\u001b[1;32m/usr/lib/sagemath/local/lib/python2.7/site-packages/numpy/linalg/linalg.py\u001b[0m in \u001b[0;36msolve\u001b[1;34m(a, b)\u001b[0m\n\u001b[0;32m    382\u001b[0m     \u001b[0msignature\u001b[0m \u001b[1;33m=\u001b[0m \u001b[1;34m'DD->D'\u001b[0m \u001b[1;32mif\u001b[0m \u001b[0misComplexType\u001b[0m\u001b[1;33m(\u001b[0m\u001b[0mt\u001b[0m\u001b[1;33m)\u001b[0m \u001b[1;32melse\u001b[0m \u001b[1;34m'dd->d'\u001b[0m\u001b[1;33m\u001b[0m\u001b[0m\n\u001b[0;32m    383\u001b[0m     \u001b[0mextobj\u001b[0m \u001b[1;33m=\u001b[0m \u001b[0mget_linalg_error_extobj\u001b[0m\u001b[1;33m(\u001b[0m\u001b[0m_raise_linalgerror_singular\u001b[0m\u001b[1;33m)\u001b[0m\u001b[1;33m\u001b[0m\u001b[0m\n\u001b[1;32m--> 384\u001b[1;33m     \u001b[0mr\u001b[0m \u001b[1;33m=\u001b[0m \u001b[0mgufunc\u001b[0m\u001b[1;33m(\u001b[0m\u001b[0ma\u001b[0m\u001b[1;33m,\u001b[0m \u001b[0mb\u001b[0m\u001b[1;33m,\u001b[0m \u001b[0msignature\u001b[0m\u001b[1;33m=\u001b[0m\u001b[0msignature\u001b[0m\u001b[1;33m,\u001b[0m \u001b[0mextobj\u001b[0m\u001b[1;33m=\u001b[0m\u001b[0mextobj\u001b[0m\u001b[1;33m)\u001b[0m\u001b[1;33m\u001b[0m\u001b[0m\n\u001b[0m\u001b[0;32m    385\u001b[0m \u001b[1;33m\u001b[0m\u001b[0m\n\u001b[0;32m    386\u001b[0m     \u001b[1;32mreturn\u001b[0m \u001b[0mwrap\u001b[0m\u001b[1;33m(\u001b[0m\u001b[0mr\u001b[0m\u001b[1;33m.\u001b[0m\u001b[0mastype\u001b[0m\u001b[1;33m(\u001b[0m\u001b[0mresult_t\u001b[0m\u001b[1;33m,\u001b[0m \u001b[0mcopy\u001b[0m\u001b[1;33m=\u001b[0m\u001b[0mFalse\u001b[0m\u001b[1;33m)\u001b[0m\u001b[1;33m)\u001b[0m\u001b[1;33m\u001b[0m\u001b[0m\n",
      "\u001b[1;32m/usr/lib/sagemath/local/lib/python2.7/site-packages/numpy/linalg/linalg.py\u001b[0m in \u001b[0;36m_raise_linalgerror_singular\u001b[1;34m(err, flag)\u001b[0m\n\u001b[0;32m     88\u001b[0m \u001b[1;33m\u001b[0m\u001b[0m\n\u001b[0;32m     89\u001b[0m \u001b[1;32mdef\u001b[0m \u001b[0m_raise_linalgerror_singular\u001b[0m\u001b[1;33m(\u001b[0m\u001b[0merr\u001b[0m\u001b[1;33m,\u001b[0m \u001b[0mflag\u001b[0m\u001b[1;33m)\u001b[0m\u001b[1;33m:\u001b[0m\u001b[1;33m\u001b[0m\u001b[0m\n\u001b[1;32m---> 90\u001b[1;33m     \u001b[1;32mraise\u001b[0m \u001b[0mLinAlgError\u001b[0m\u001b[1;33m(\u001b[0m\u001b[1;34m\"Singular matrix\"\u001b[0m\u001b[1;33m)\u001b[0m\u001b[1;33m\u001b[0m\u001b[0m\n\u001b[0m\u001b[0;32m     91\u001b[0m \u001b[1;33m\u001b[0m\u001b[0m\n\u001b[0;32m     92\u001b[0m \u001b[1;32mdef\u001b[0m \u001b[0m_raise_linalgerror_nonposdef\u001b[0m\u001b[1;33m(\u001b[0m\u001b[0merr\u001b[0m\u001b[1;33m,\u001b[0m \u001b[0mflag\u001b[0m\u001b[1;33m)\u001b[0m\u001b[1;33m:\u001b[0m\u001b[1;33m\u001b[0m\u001b[0m\n",
      "\u001b[1;31mLinAlgError\u001b[0m: Singular matrix"
     ]
    }
   ],
   "source": [
    "bb = []\n",
    "for k in range(n+1):\n",
    "    bb.append(np.array(KBBN[k], dtype=float))\n",
    "roots = bz.BB2roots(bb)\n",
    "test_roots = bz.roots_test(P, x, roots)\n",
    "test_roots"
   ]
  },
  {
   "cell_type": "code",
   "execution_count": 28,
   "metadata": {
    "collapsed": false
   },
   "outputs": [
    {
     "data": {
      "text/plain": [
       "(array([22, 54, 45,  9,  2,  3,  1,  0,  1,  0,  2]),\n",
       " array([-15.23694793, -14.69580654, -14.15466515, -13.61352377,\n",
       "        -13.07238238, -12.53124099, -11.9900996 , -11.44895821,\n",
       "        -10.90781682, -10.36667544,  -9.82553405,  -9.28439266]))"
      ]
     },
     "execution_count": 28,
     "metadata": {},
     "output_type": "execute_result"
    }
   ],
   "source": [
    "hist, bin_edges = np.histogram(np.log10(test_roots), bins='scott')\n",
    "hist, bin_edges"
   ]
  }
 ],
 "metadata": {
  "anaconda-cloud": {},
  "kernelspec": {
   "display_name": "SageMath 7.3",
   "language": "",
   "name": "sagemath"
  },
  "language_info": {
   "codemirror_mode": {
    "name": "ipython",
    "version": 2
   },
   "file_extension": ".py",
   "mimetype": "text/x-python",
   "name": "python",
   "nbconvert_exporter": "python",
   "pygments_lexer": "ipython2",
   "version": "2.7.10"
  }
 },
 "nbformat": 4,
 "nbformat_minor": 0
}
