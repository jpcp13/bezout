{
 "cells": [
  {
   "cell_type": "code",
   "execution_count": 1,
   "metadata": {
    "collapsed": false
   },
   "outputs": [
    {
     "name": "stdout",
     "output_type": "stream",
     "text": [
      "sage_rank = 89\n",
      "numpy_rank = 89\n"
     ]
    }
   ],
   "source": [
    "import numpy as np\n",
    "import scipy.linalg as la\n",
    "import time\n",
    "import bezout_5 as bz\n",
    "\n",
    "#TEX_DIR = '/home/jp/Documents/Bezout/bezout/tex/txt'\n",
    "TEX_DIR = '../tex/txt'\n",
    "\n",
    "deg = [1]*5\n",
    "\n",
    "with open(TEX_DIR+'/deg.txt', 'w') as f:\n",
    "    f.write(str(deg))\n",
    "    \n",
    "t = 4\n",
    "m = 16000\n",
    "n = len(deg)\n",
    "\n",
    "Field = QQ\n",
    "R = PolynomialRing(Field, 'x', n)\n",
    "x = R.gens()\n",
    "xx = [x[0]**0] + list(x)\n",
    "\n",
    "fshape = [d+1 for d in deg]\n",
    "dx = [(i+1)*deg[i] for i in range(n)]\n",
    "dy = [(n-i)*deg[i] for i in range(n)]\n",
    "fn, Dx, Dy = factorial(n), prod(dx), prod(dy)\n",
    "with open(TEX_DIR+'/Dx.txt', 'w') as f:\n",
    "    f.write(\"{0:d}\".format(Dx))\n",
    "\n",
    "\n",
    "P = [bz.rand_poly(n-1, m, deg, t, x) for i in range(n)] + xx\n",
    "#P = load('P.sobj')\n",
    "\n",
    "save(P, 'P')\n",
    "bz.P2txt(n, deg, P, TEX_DIR)\n",
    "F = [bz.poly2prism(fshape, p) for p in P]\n",
    "\n",
    "TEX_DIR\n",
    "\n",
    "t = time.clock()\n",
    "Gx, Gy, Hx, Hy = bz._GH(n, fn, deg, dx, dy)\n",
    "H, K = bz._HK(n, Hx, Hy)\n",
    "J = bz._J(Dx, Dy, F, n, fshape, dx, dy, Gx, Gy)\n",
    "C = bz._C(n, Dx, Dy, J)\n",
    "B = bz._B(n, Dx, Dy, H, K, C)\n",
    "\n",
    "construction_B_time = time.clock() - t\n",
    "with open(TEX_DIR+'/construction_B_time.txt', 'w') as f:\n",
    "    f.write(\"{0:.4f}\".format(construction_B_time))\n",
    "\n",
    "#B = bz.block_triang(n, Dx, Dy, dx, dy, deg, B)\n",
    "BB = []\n",
    "for k in range(n+1):\n",
    "        Bk = matrix(Field, B[k])\n",
    "        BB.append(Bk[:, :])\n",
    "bz.bz2txt(n, TEX_DIR, BB)\n",
    "\n",
    "\"\"\"\n",
    "computing rank of B0\n",
    "\"\"\"\n",
    "t = time.clock()\n",
    "r0 = rank(BB[0])\n",
    "rank_B0_time = time.clock() - t\n",
    "\n",
    "with open(TEX_DIR+'/rank_B0.txt', 'w') as f:\n",
    "    f.write(\"{0:d}\".format(r0))\n",
    "with open(TEX_DIR+'/rank_B0_time.txt', 'w') as f:\n",
    "    f.write(\"{0:.4f}\".format(rank_B0_time))\n",
    "print(\"sage_rank = {0:d}\".format(r0))\n",
    "\n",
    "bb = []\n",
    "for k in range(n+1):\n",
    "    bb.append(np.array(BB[k], dtype=float))\n",
    "\n",
    "b0 = bb[0]\n",
    "numpy_rank = np.linalg.matrix_rank(b0)\n",
    "print(\"numpy_rank = {0:d}\".format(numpy_rank))"
   ]
  },
  {
   "cell_type": "code",
   "execution_count": 3,
   "metadata": {
    "collapsed": false
   },
   "outputs": [
    {
     "name": "stdout",
     "output_type": "stream",
     "text": [
      "sage_rank = 73\n",
      "numpy_rank = 73\n",
      "(120, 98) 65 22\n",
      "(120, 90) 65 8\n",
      "(120, 90) 65 0\n",
      "bbt\n",
      "(90, 120) 65 0\n"
     ]
    },
    {
     "data": {
      "text/plain": [
       "(array([17, 20, 17,  9,  1,  1]),\n",
       " array([-14.39435625, -13.86099971, -13.32764316, -12.79428662,\n",
       "        -12.26093008, -11.72757353, -11.19421699]))"
      ]
     },
     "execution_count": 3,
     "metadata": {},
     "output_type": "execute_result"
    }
   ],
   "source": [
    "\"\"\"\n",
    "reduction of Bezoutian matrices\n",
    "\"\"\"\n",
    "epsi = abs(b0).max()/1.0e6\n",
    "\n",
    "t = time.clock()\n",
    "nb_relations = 1\n",
    "while nb_relations > 0:\n",
    "    bb, r0, nb_relations = bz.iteration(bb, r0, epsi)\n",
    "    print bb[0].shape, r0, nb_relations\n",
    "\n",
    "print \"bbt\"\n",
    "bbt = []\n",
    "for k in range(n+1):\n",
    "    bbt.append(bb[k].T)\n",
    "nb_relations = 1\n",
    "while nb_relations > 0:\n",
    "    bbt, r0, nb_relations = bz.iteration(bbt, r0, epsi)\n",
    "    print bbt[0].shape, r0, nb_relations\n",
    "reductions_time = time.clock() - t\n",
    "with open(TEX_DIR+'/bezout_dim.txt', 'w') as f:\n",
    "    f.write(\"{0:d}\".format(r0))\n",
    "with open(TEX_DIR+'/reductions_time.txt', 'w') as f:\n",
    "    f.write(\"{0:.4f}\".format(reductions_time))\n",
    "\n",
    "\"\"\"\n",
    "Numerical compation of the roots\n",
    "\"\"\"\n",
    "t = time.clock()\n",
    "bbt_roots = bz.bbt2roots(bbt, epsi, r0)\n",
    "compute_roots_time = time.clock() - t\n",
    "with open(TEX_DIR+'/compute_roots_time.txt', 'w') as f:\n",
    "    f.write(\"{0:.4f}\".format(compute_roots_time))\n",
    "\n",
    "test_bbtr = bz.roots_test(P, x, bbt_roots)\n",
    "test_roots = np.sort(test_bbtr[:])\n",
    "\n",
    "np.savetxt(TEX_DIR+'/test_roots.txt', test_roots,  fmt='%1.3e')\n",
    "\n",
    "hist, bin_edges = np.histogram(np.log10(test_roots), bins='scott')\n",
    "hist, bin_edges"
   ]
  },
  {
   "cell_type": "code",
   "execution_count": 4,
   "metadata": {
    "collapsed": false
   },
   "outputs": [],
   "source": [
    "with open(TEX_DIR+'/histogram.txt', 'w') as f:\n",
    "    for k in range(len(hist)):\n",
    "        nb_roots = hist[k]\n",
    "        left_bin, right_bin = bin_edges[k], bin_edges[k+1]\n",
    "        if nb_roots > 0:\n",
    "            if k < len(hist)-1:\n",
    "                f.write(\"$[{0:2.1f}, {1:2.1f}]$ & ${2:d}$\\\\\\\\\\n\".format(left_bin, right_bin, nb_roots))\n",
    "            else:\n",
    "                f.write(\"$[{0:2.1f}, {1:2.1f}]$ & ${2:d}$\\n\".format(left_bin, right_bin, nb_roots))"
   ]
  },
  {
   "cell_type": "code",
   "execution_count": 2,
   "metadata": {
    "collapsed": false
   },
   "outputs": [
    {
     "name": "stdout",
     "output_type": "stream",
     "text": [
      "+Infinity\n"
     ]
    }
   ],
   "source": [
    "t = time.clock()\n",
    "GB, grobner_dim = bz.compute_grobner(R, P, n)\n",
    "print grobner_dim\n",
    "grobner_time = time.clock() - t\n",
    "bz.gb2txt(TEX_DIR, GB)\n",
    "\n",
    "with open(TEX_DIR+'/grobner_dim.txt', 'w') as f:\n",
    "    f.write(\"{0}\".format(grobner_dim))\n",
    "\n",
    "with open(TEX_DIR+'/grobner_time.txt', 'w') as f:\n",
    "    f.write(\"{0:.4f}\".format(grobner_time))"
   ]
  },
  {
   "cell_type": "code",
   "execution_count": 6,
   "metadata": {
    "collapsed": true
   },
   "outputs": [],
   "source": [
    "with open(TEX_DIR+'/bezout_exact.txt', 'w') as f:\n",
    "    X = matrix(ZZ, Dx, 0)\n",
    "    X_ortho = X.kernel().basis_matrix().LLL().transpose()\n",
    "    Y, Y_time = bz.BB2Y(BB, X_ortho)\n",
    "    f.write(\"nb de Y-relations = {0:d}\\n\".format(Y.nrows()))\n",
    "\n",
    "    \n",
    "    K = bz.Y2K(BB[0], X_ortho, Y)\n",
    "    X_dim = Dx - K.nrows()\n",
    "    f.write(\"X_dim = {0:d}\\n\".format(X_dim))\n",
    "\n",
    "    \n",
    "    Y_ortho = Y.right_kernel_matrix().LLL()\n",
    "    X, X_time = bz.BB2X(BB, Y_ortho)\n",
    "    N = bz.X2N(BB[0], Y_ortho, X)\n",
    "    X_ortho = X.kernel().basis_matrix().LLL().transpose()\n",
    "    f.write(\"nb de X-relations = {0:d}\\n\".format(X.ncols()))"
   ]
  },
  {
   "cell_type": "code",
   "execution_count": 3,
   "metadata": {
    "collapsed": false
   },
   "outputs": [],
   "source": [
    "def find_Y(BB, B0Y):\n",
    "    nr, nc = BB[0].nrows(), BB[0].ncols()\n",
    "    while True:\n",
    "        old_nbr = B0Y.nrows()\n",
    "        print old_nbr\n",
    "        K_lambda = B0Y.kernel().basis_matrix()\n",
    "        K = K_lambda[:, 0:nc]\n",
    "        Y = matrix(Field, 0, nc)\n",
    "        for k in range(1, n+1):\n",
    "            Yk = K*BB[k]\n",
    "            Y = block_matrix(2, 1, [Y, Yk]).LLL()\n",
    "            nzr = bz.nzrows(Y) \n",
    "            Y = Y[nzr, :]\n",
    "        B0Y = block_matrix(2, 1, [BB[0], Y])\n",
    "        if B0Y.nrows() == old_nbr:\n",
    "            break\n",
    "            \n",
    "    return Y\n",
    "\n",
    "def P2field(p):\n",
    "    coeffs, monoms = p.coefficients(), p.monomials()\n",
    "    return sum([Field(coeffs[i])*monoms[i] for i in range(len(coeffs))])"
   ]
  },
  {
   "cell_type": "code",
   "execution_count": 4,
   "metadata": {
    "collapsed": false
   },
   "outputs": [
    {
     "name": "stdout",
     "output_type": "stream",
     "text": [
      "120\n",
      "128\n",
      "130\n",
      "120\n",
      "128\n",
      "131\n",
      "----------\n",
      "86\n",
      "85\n",
      "84\n"
     ]
    }
   ],
   "source": [
    "B0Y = BB[0]\n",
    "Y = find_Y(BB, B0Y)\n",
    "\n",
    "BBt = []\n",
    "for k in range(n+1):\n",
    "    BBt.append(BB[k].transpose())\n",
    "B0Yt = B0Y.transpose()\n",
    "X = find_Y(BBt, B0Yt)\n",
    "\n",
    "print \"-\"*10\n",
    "Y_ortho = Y.right_kernel_matrix()\n",
    "bb0y = BB[0]*Y_ortho.transpose()\n",
    "print rank(bb0y)\n",
    "X_ortho = X.right_kernel_matrix()\n",
    "xbb0 = X_ortho*BB[0]\n",
    "print rank(xbb0)\n",
    "xbb0y = X_ortho*BB[0]*Y_ortho.transpose()\n",
    "print rank(xbb0y)\n"
   ]
  },
  {
   "cell_type": "code",
   "execution_count": 5,
   "metadata": {
    "collapsed": false
   },
   "outputs": [
    {
     "name": "stdout",
     "output_type": "stream",
     "text": [
      "bezout_exact_dim = 84\n"
     ]
    }
   ],
   "source": [
    "XBBY = []\n",
    "for k in range(n+1):\n",
    "    XBBY.append(X_ortho*BB[k]*Y_ortho.transpose())\n",
    "bezout_exact_dim = rank(XBBY[0])\n",
    "#f.write(\"bezout_exact_dim = {0:d}\\n\".format(bezout_exact_dim))\n",
    "print(\"bezout_exact_dim = {0:d}\".format(bezout_exact_dim))"
   ]
  },
  {
   "cell_type": "code",
   "execution_count": 6,
   "metadata": {
    "collapsed": false
   },
   "outputs": [],
   "source": [
    "K_ortho = XBBY[0].kernel().basis_matrix().right_kernel_matrix()\n",
    "N_ortho = XBBY[0].right_kernel_matrix().right_kernel_matrix()\n",
    "#N_ortho = N.kernel().basis_matrix().transpose()\n",
    "\n",
    "KBBN = []\n",
    "for k in range(n+1):\n",
    "    KBBN.append(K_ortho*XBBY[k]*N_ortho.transpose())"
   ]
  },
  {
   "cell_type": "code",
   "execution_count": 8,
   "metadata": {
    "collapsed": false
   },
   "outputs": [
    {
     "name": "stdout",
     "output_type": "stream",
     "text": [
      "test_XX = [(0, 0, 0, 0, 0, 0, 0, 0, 0, 0, 0, 0, 0, 0, 0, 0, 0, 0, 0, 0, 0, 0, 0, 0, 0, 0, 0, 0, 0, 0, 0, 0, 0, 0, 0, 0, 0, 0, 0, 0, 0, 0, 0, 0, 0, 0, 0, 0, 0, 0, 0, 0, 0, 0, 0, 0, 0, 0, 0, 0, 0, 0, 0, 0, 0, 0, 0, 0, 0, 0, 0, 0, 0, 0, 0, 0, 0, 0, 0, 0, 0, 0, 0, 0), (0, 0, 0, 0, 0, 0, 0, 0, 0, 0, 0, 0, 0, 0, 0, 0, 0, 0, 0, 0, 0, 0, 0, 0, 0, 0, 0, 0, 0, 0, 0, 0, 0, 0, 0, 0, 0, 0, 0, 0, 0, 0, 0, 0, 0, 0, 0, 0, 0, 0, 0, 0, 0, 0, 0, 0, 0, 0, 0, 0, 0, 0, 0, 0, 0, 0, 0, 0, 0, 0, 0, 0, 0, 0, 0, 0, 0, 0, 0, 0, 0, 0, 0, 0), (0, 0, 0, 0, 0, 0, 0, 0, 0, 0, 0, 0, 0, 0, 0, 0, 0, 0, 0, 0, 0, 0, 0, 0, 0, 0, 0, 0, 0, 0, 0, 0, 0, 0, 0, 0, 0, 0, 0, 0, 0, 0, 0, 0, 0, 0, 0, 0, 0, 0, 0, 0, 0, 0, 0, 0, 0, 0, 0, 0, 0, 0, 0, 0, 0, 0, 0, 0, 0, 0, 0, 0, 0, 0, 0, 0, 0, 0, 0, 0, 0, 0, 0, 0), (0, 0, 0, 0, 0, 0, 0, 0, 0, 0, 0, 0, 0, 0, 0, 0, 0, 0, 0, 0, 0, 0, 0, 0, 0, 0, 0, 0, 0, 0, 0, 0, 0, 0, 0, 0, 0, 0, 0, 0, 0, 0, 0, 0, 0, 0, 0, 0, 0, 0, 0, 0, 0, 0, 0, 0, 0, 0, 0, 0, 0, 0, 0, 0, 0, 0, 0, 0, 0, 0, 0, 0, 0, 0, 0, 0, 0, 0, 0, 0, 0, 0, 0, 0), (0, 0, 0, 0, 0, 0, 0, 0, 0, 0, 0, 0, 0, 0, 0, 0, 0, 0, 0, 0, 0, 0, 0, 0, 0, 0, 0, 0, 0, 0, 0, 0, 0, 0, 0, 0, 0, 0, 0, 0, 0, 0, 0, 0, 0, 0, 0, 0, 0, 0, 0, 0, 0, 0, 0, 0, 0, 0, 0, 0, 0, 0, 0, 0, 0, 0, 0, 0, 0, 0, 0, 0, 0, 0, 0, 0, 0, 0, 0, 0, 0, 0, 0, 0)]\n"
     ]
    }
   ],
   "source": [
    "Field = GF(next_prime(200))\n",
    "\n",
    "BBf = []\n",
    "for k in range(n+1):\n",
    "        Bk = matrix(Field, KBBN[k])\n",
    "        BBf.append(Bk[:, :])\n",
    "        \n",
    "if rank(BBf[0]) == bezout_exact_dim:\n",
    "    XX = []\n",
    "    for k in range(n):\n",
    "        xx = BBf[0].solve_right(BBf[k+1])\n",
    "        XX.append(xx)\n",
    "    Pf = [P2field(p) for p in P]\n",
    "    test_XX = [bz.X2p(XX, Field, p) for p in Pf[:n]]\n",
    "    #f.write(\"test_XX = {0:s}\".format(test_XX))\n",
    "    print(\"test_XX = {0:s}\".format(test_XX))\n",
    "else:\n",
    "        print \"rank deficiency !\""
   ]
  },
  {
   "cell_type": "code",
   "execution_count": 9,
   "metadata": {
    "collapsed": false
   },
   "outputs": [
    {
     "data": {
      "text/plain": [
       "array([  4.17650797e-06,   7.07744734e-10,   6.60329679e-11,\n",
       "         1.02736763e-10,   9.74517079e-11,   9.17896152e-11,\n",
       "         3.95574782e-12,   1.58131676e-10,   1.15622912e-10,\n",
       "         4.77347444e-11,   3.32997730e-10,   3.35027464e-10,\n",
       "         6.66822199e-11,   3.70243945e-10,   1.27459194e-12,\n",
       "         1.17436707e-12,   4.22923916e-12,   5.64650119e-12,\n",
       "         2.08007718e-11,   1.35072424e-11,   7.98050454e-11,\n",
       "         1.20267068e-12,   9.70254991e-13,   1.38597311e-12,\n",
       "         9.10127193e-13,   2.17355685e-12,   5.82883197e-12,\n",
       "         7.77933825e-12,   1.11261799e-11,   1.03583442e-12,\n",
       "         1.43613533e-11,   8.34350553e-12,   2.49072751e-11,\n",
       "         1.30155753e-11,   3.00868631e-11,   1.28699049e-12,\n",
       "         1.24749136e-11,   1.16555710e-11,   1.44063122e-12,\n",
       "         7.98926469e-12,   1.84949510e-11,   1.17718587e-11,\n",
       "         1.15707036e-11,   4.13457997e-11,   7.55509041e-12,\n",
       "         2.37160522e-12,   5.40791959e-12,   1.12683658e-11,\n",
       "         5.41340868e-12,   7.60305069e-12,   3.57193795e-11,\n",
       "         5.59494014e-12,   4.70552356e-12,   7.51951182e-12,\n",
       "         1.83263194e-11,   8.35421981e-12,   7.61269945e-12,\n",
       "         3.25163246e-12,   3.61459814e-11,   2.82030080e-11,\n",
       "         1.94775424e-11,   4.59606178e-11,   1.10880440e-11,\n",
       "         1.55940496e-11,   2.57665423e-12,   2.29155904e-12,\n",
       "         1.76576650e-12,   1.67858038e-10,   9.02076642e-11,\n",
       "         3.88872020e-12,   2.66923522e-11,   7.63279401e-11,\n",
       "         7.77904269e-12,   9.28883941e-12,   5.79461364e-12,\n",
       "         4.29699423e-11,   2.66595365e-12,   1.66207343e-11,\n",
       "         2.34350663e-11,   5.39415302e-11,   1.10481002e+00,\n",
       "         1.51662763e-08,   3.85984763e-10,   1.30151819e-11])"
      ]
     },
     "execution_count": 9,
     "metadata": {},
     "output_type": "execute_result"
    }
   ],
   "source": [
    "bb = []\n",
    "for k in range(n+1):\n",
    "    bb.append(np.array(KBBN[k], dtype=float))\n",
    "roots = bz.BB2roots(bb)\n",
    "test_roots = bz.roots_test(P, x, roots)\n",
    "test_roots"
   ]
  },
  {
   "cell_type": "code",
   "execution_count": 10,
   "metadata": {
    "collapsed": false
   },
   "outputs": [
    {
     "data": {
      "text/plain": [
       "(array([39, 35,  7,  1,  0,  0,  1,  0,  0,  0,  1]),\n",
       " array([-12.04089791, -10.94233559,  -9.84377327,  -8.74521095,\n",
       "         -7.64664863,  -6.54808631,  -5.44952399,  -4.35096167,\n",
       "         -3.25239935,  -2.15383703,  -1.05527471,   0.04328761]))"
      ]
     },
     "execution_count": 10,
     "metadata": {},
     "output_type": "execute_result"
    }
   ],
   "source": [
    "hist, bin_edges = np.histogram(np.log10(test_roots), bins='scott')\n",
    "hist, bin_edges"
   ]
  }
 ],
 "metadata": {
  "anaconda-cloud": {},
  "kernelspec": {
   "display_name": "SageMath 7.3",
   "language": "",
   "name": "sagemath"
  },
  "language_info": {
   "codemirror_mode": {
    "name": "ipython",
    "version": 2
   },
   "file_extension": ".py",
   "mimetype": "text/x-python",
   "name": "python",
   "nbconvert_exporter": "python",
   "pygments_lexer": "ipython2",
   "version": "2.7.10"
  }
 },
 "nbformat": 4,
 "nbformat_minor": 0
}
