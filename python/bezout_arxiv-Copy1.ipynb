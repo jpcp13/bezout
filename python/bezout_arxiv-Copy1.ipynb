{
 "cells": [
  {
   "cell_type": "code",
   "execution_count": 13,
   "metadata": {
    "collapsed": false
   },
   "outputs": [
    {
     "name": "stdout",
     "output_type": "stream",
     "text": [
      "sage_rank = 94\n",
      "numpy_rank = 94\n"
     ]
    }
   ],
   "source": [
    "import numpy as np\n",
    "import scipy.linalg as la\n",
    "import time\n",
    "import bezout_5 as bz\n",
    "\n",
    "#TEX_DIR = '/home/jp/Documents/Bezout/bezout/tex/txt'\n",
    "TEX_DIR = '../tex/txt'\n",
    "\n",
    "deg = [1]*5\n",
    "\n",
    "with open(TEX_DIR+'/deg.txt', 'w') as f:\n",
    "    f.write(str(deg))\n",
    "    \n",
    "t = 4\n",
    "m = 16000\n",
    "n = len(deg)\n",
    "\n",
    "Field = QQ\n",
    "R = PolynomialRing(Field, 'x', n)\n",
    "x = R.gens()\n",
    "xx = [x[0]**0] + list(x)\n",
    "\n",
    "fshape = [d+1 for d in deg]\n",
    "dx = [(i+1)*deg[i] for i in range(n)]\n",
    "dy = [(n-i)*deg[i] for i in range(n)]\n",
    "fn, Dx, Dy = factorial(n), prod(dx), prod(dy)\n",
    "with open(TEX_DIR+'/Dx.txt', 'w') as f:\n",
    "    f.write(\"{0:d}\".format(Dx))\n",
    "\n",
    "\n",
    "P = [bz.rand_poly(n-1, m, deg, t, x) for i in range(n)] + xx\n",
    "#P = load('P.sobj')\n",
    "\n",
    "save(P, 'P')\n",
    "bz.P2txt(n, deg, P, TEX_DIR)\n",
    "F = [bz.poly2prism(fshape, p) for p in P]\n",
    "\n",
    "TEX_DIR\n",
    "\n",
    "t = time.clock()\n",
    "Gx, Gy, Hx, Hy = bz._GH(n, fn, deg, dx, dy)\n",
    "H, K = bz._HK(n, Hx, Hy)\n",
    "J = bz._J(Dx, Dy, F, n, fshape, dx, dy, Gx, Gy)\n",
    "C = bz._C(n, Dx, Dy, J)\n",
    "B = bz._B(n, Dx, Dy, H, K, C)\n",
    "\n",
    "construction_B_time = time.clock() - t\n",
    "with open(TEX_DIR+'/construction_B_time.txt', 'w') as f:\n",
    "    f.write(\"{0:.4f}\".format(construction_B_time))\n",
    "\n",
    "#B = bz.block_triang(n, Dx, Dy, dx, dy, deg, B)\n",
    "BB = []\n",
    "for k in range(n+1):\n",
    "        Bk = matrix(Field, B[k])\n",
    "        BB.append(Bk[:, :])\n",
    "bz.bz2txt(n, TEX_DIR, BB)\n",
    "\n",
    "\"\"\"\n",
    "computing rank of B0\n",
    "\"\"\"\n",
    "t = time.clock()\n",
    "r0 = rank(BB[0])\n",
    "rank_B0_time = time.clock() - t\n",
    "\n",
    "with open(TEX_DIR+'/rank_B0.txt', 'w') as f:\n",
    "    f.write(\"{0:d}\".format(r0))\n",
    "with open(TEX_DIR+'/rank_B0_time.txt', 'w') as f:\n",
    "    f.write(\"{0:.4f}\".format(rank_B0_time))\n",
    "print(\"sage_rank = {0:d}\".format(r0))\n",
    "\n",
    "bb = []\n",
    "for k in range(n+1):\n",
    "    bb.append(np.array(BB[k], dtype=float))\n",
    "\n",
    "b0 = bb[0]\n",
    "numpy_rank = np.linalg.matrix_rank(b0)\n",
    "print(\"numpy_rank = {0:d}\".format(numpy_rank))"
   ]
  },
  {
   "cell_type": "code",
   "execution_count": 14,
   "metadata": {
    "collapsed": false
   },
   "outputs": [
    {
     "name": "stdout",
     "output_type": "stream",
     "text": [
      "(120, 106) 92 14\n",
      "(120, 104) 92 2\n",
      "(120, 104) 92 0\n",
      "bbt\n",
      "(104, 120) 92 0\n"
     ]
    },
    {
     "data": {
      "text/plain": [
       "(array([25, 33, 17,  9,  5,  1,  2]),\n",
       " array([-14.6363239 , -13.8324938 , -13.02866371, -12.22483361,\n",
       "        -11.42100351, -10.61717342,  -9.81334332,  -9.00951323]))"
      ]
     },
     "execution_count": 14,
     "metadata": {},
     "output_type": "execute_result"
    }
   ],
   "source": [
    "\"\"\"\n",
    "reduction of Bezoutian matrices\n",
    "\"\"\"\n",
    "epsi = abs(b0).max()/1.0e6\n",
    "\n",
    "t = time.clock()\n",
    "nb_relations = 1\n",
    "while nb_relations > 0:\n",
    "    bb, r0, nb_relations = bz.iteration(bb, r0, epsi)\n",
    "    print bb[0].shape, r0, nb_relations\n",
    "\n",
    "print \"bbt\"\n",
    "bbt = []\n",
    "for k in range(n+1):\n",
    "    bbt.append(bb[k].T)\n",
    "nb_relations = 1\n",
    "while nb_relations > 0:\n",
    "    bbt, r0, nb_relations = bz.iteration(bbt, r0, epsi)\n",
    "    print bbt[0].shape, r0, nb_relations\n",
    "reductions_time = time.clock() - t\n",
    "with open(TEX_DIR+'/bezout_dim.txt', 'w') as f:\n",
    "    f.write(\"{0:d}\".format(r0))\n",
    "with open(TEX_DIR+'/reductions_time.txt', 'w') as f:\n",
    "    f.write(\"{0:.4f}\".format(reductions_time))\n",
    "\n",
    "\"\"\"\n",
    "Numerical compation of the roots\n",
    "\"\"\"\n",
    "t = time.clock()\n",
    "bbt_roots = bz.bbt2roots(bbt, epsi, r0)\n",
    "compute_roots_time = time.clock() - t\n",
    "with open(TEX_DIR+'/compute_roots_time.txt', 'w') as f:\n",
    "    f.write(\"{0:.4f}\".format(compute_roots_time))\n",
    "\n",
    "test_bbtr = bz.roots_test(P, x, bbt_roots)\n",
    "test_roots = np.sort(test_bbtr[:])\n",
    "\n",
    "np.savetxt(TEX_DIR+'/test_roots.txt', test_roots,  fmt='%1.3e')\n",
    "\n",
    "hist, bin_edges = np.histogram(np.log10(test_roots), bins='scott')\n",
    "hist, bin_edges"
   ]
  },
  {
   "cell_type": "code",
   "execution_count": 15,
   "metadata": {
    "collapsed": false
   },
   "outputs": [],
   "source": [
    "with open(TEX_DIR+'/histogram.txt', 'w') as f:\n",
    "    for k in range(len(hist)):\n",
    "        nb_roots = hist[k]\n",
    "        left_bin, right_bin = bin_edges[k], bin_edges[k+1]\n",
    "        if nb_roots > 0:\n",
    "            if k < len(hist)-1:\n",
    "                f.write(\"$[{0:2.1f}, {1:2.1f}]$ & ${2:d}$\\\\\\\\\\n\".format(left_bin, right_bin, nb_roots))\n",
    "            else:\n",
    "                f.write(\"$[{0:2.1f}, {1:2.1f}]$ & ${2:d}$\\n\".format(left_bin, right_bin, nb_roots))"
   ]
  },
  {
   "cell_type": "code",
   "execution_count": 16,
   "metadata": {
    "collapsed": false
   },
   "outputs": [
    {
     "name": "stdout",
     "output_type": "stream",
     "text": [
      "92\n"
     ]
    }
   ],
   "source": [
    "t = time.clock()\n",
    "GB, grobner_dim = bz.compute_grobner(R, P, n)\n",
    "print grobner_dim\n",
    "grobner_time = time.clock() - t\n",
    "bz.gb2txt(TEX_DIR, GB)\n",
    "\n",
    "with open(TEX_DIR+'/grobner_dim.txt', 'w') as f:\n",
    "    f.write(\"{0}\".format(grobner_dim))\n",
    "\n",
    "with open(TEX_DIR+'/grobner_time.txt', 'w') as f:\n",
    "    f.write(\"{0:.4f}\".format(grobner_time))"
   ]
  },
  {
   "cell_type": "code",
   "execution_count": 17,
   "metadata": {
    "collapsed": true
   },
   "outputs": [],
   "source": [
    "with open(TEX_DIR+'/bezout_exact.txt', 'w') as f:\n",
    "    X = matrix(ZZ, Dx, 0)\n",
    "    X_ortho = X.kernel().basis_matrix().LLL().transpose()\n",
    "    Y, Y_time = bz.BB2Y(BB, X_ortho)\n",
    "    f.write(\"nb de Y-relations = {0:d}\\n\".format(Y.nrows()))\n",
    "\n",
    "    \n",
    "    K = bz.Y2K(BB[0], X_ortho, Y)\n",
    "    X_dim = Dx - K.nrows()\n",
    "    f.write(\"X_dim = {0:d}\\n\".format(X_dim))\n",
    "\n",
    "    \n",
    "    Y_ortho = Y.right_kernel_matrix().LLL()\n",
    "    X, X_time = bz.BB2X(BB, Y_ortho)\n",
    "    N = bz.X2N(BB[0], Y_ortho, X)\n",
    "    X_ortho = X.kernel().basis_matrix().LLL().transpose()\n",
    "    f.write(\"nb de X-relations = {0:d}\\n\".format(X.ncols()))"
   ]
  },
  {
   "cell_type": "code",
   "execution_count": 18,
   "metadata": {
    "collapsed": false
   },
   "outputs": [],
   "source": [
    "def find_Y(BB, B0Y):\n",
    "    nr, nc = BB[0].nrows(), BB[0].ncols()\n",
    "    while True:\n",
    "        old_nbr = B0Y.nrows()\n",
    "        print old_nbr\n",
    "        K_lambda = B0Y.kernel().basis_matrix()\n",
    "        K = K_lambda[:, 0:nc]\n",
    "        Y = matrix(Field, 0, nc)\n",
    "        for k in range(1, n+1):\n",
    "            Yk = K*BB[k]\n",
    "            Y = block_matrix(2, 1, [Y, Yk]).LLL()\n",
    "            nzr = bz.nzrows(Y) \n",
    "            Y = Y[nzr, :]\n",
    "        B0Y = block_matrix(2, 1, [BB[0], Y])\n",
    "        if B0Y.nrows() == old_nbr:\n",
    "            break\n",
    "            \n",
    "    return Y\n",
    "\n",
    "def P2field(p):\n",
    "    coeffs, monoms = p.coefficients(), p.monomials()\n",
    "    return sum([Field(coeffs[i])*monoms[i] for i in range(len(coeffs))])"
   ]
  },
  {
   "cell_type": "code",
   "execution_count": 19,
   "metadata": {
    "collapsed": false
   },
   "outputs": [
    {
     "name": "stdout",
     "output_type": "stream",
     "text": [
      "120\n",
      "134\n",
      "136\n",
      "120\n",
      "134\n",
      "136\n",
      "----------\n",
      "92\n",
      "92\n",
      "92\n"
     ]
    }
   ],
   "source": [
    "B0Y = BB[0]\n",
    "Y = find_Y(BB, B0Y)\n",
    "\n",
    "BBt = []\n",
    "for k in range(n+1):\n",
    "    BBt.append(BB[k].transpose())\n",
    "B0Yt = B0Y.transpose()\n",
    "X = find_Y(BBt, B0Yt)\n",
    "\n",
    "print \"-\"*10\n",
    "Y_ortho = Y.right_kernel_matrix()\n",
    "bb0y = BB[0]*Y_ortho.transpose()\n",
    "print rank(bb0y)\n",
    "X_ortho = X.right_kernel_matrix()\n",
    "xbb0 = X_ortho*BB[0]\n",
    "print rank(xbb0)\n",
    "xbb0y = X_ortho*BB[0]*Y_ortho.transpose()\n",
    "print rank(xbb0y)\n"
   ]
  },
  {
   "cell_type": "code",
   "execution_count": 20,
   "metadata": {
    "collapsed": false
   },
   "outputs": [
    {
     "name": "stdout",
     "output_type": "stream",
     "text": [
      "bezout_exact_dim = 92\n"
     ]
    }
   ],
   "source": [
    "XBBY = []\n",
    "for k in range(n+1):\n",
    "    XBBY.append(X_ortho*BB[k]*Y_ortho.transpose())\n",
    "bezout_exact_dim = rank(XBBY[0])\n",
    "#f.write(\"bezout_exact_dim = {0:d}\\n\".format(bezout_exact_dim))\n",
    "print(\"bezout_exact_dim = {0:d}\".format(bezout_exact_dim))"
   ]
  },
  {
   "cell_type": "code",
   "execution_count": 21,
   "metadata": {
    "collapsed": false
   },
   "outputs": [],
   "source": [
    "K_ortho = XBBY[0].kernel().basis_matrix().right_kernel_matrix()\n",
    "N_ortho = XBBY[0].right_kernel_matrix().right_kernel_matrix()\n",
    "#N_ortho = N.kernel().basis_matrix().transpose()\n",
    "\n",
    "KBBN = []\n",
    "for k in range(n+1):\n",
    "    KBBN.append(K_ortho*XBBY[k]*N_ortho.transpose())"
   ]
  },
  {
   "cell_type": "code",
   "execution_count": 22,
   "metadata": {
    "collapsed": false
   },
   "outputs": [
    {
     "name": "stdout",
     "output_type": "stream",
     "text": [
      "test_XX = [(0, 0, 0, 0, 0, 0, 0, 0, 0, 0, 0, 0, 0, 0, 0, 0, 0, 0, 0, 0, 0, 0, 0, 0, 0, 0, 0, 0, 0, 0, 0, 0, 0, 0, 0, 0, 0, 0, 0, 0, 0, 0, 0, 0, 0, 0, 0, 0, 0, 0, 0, 0, 0, 0, 0, 0, 0, 0, 0, 0, 0, 0, 0, 0, 0, 0, 0, 0, 0, 0, 0, 0, 0, 0, 0, 0, 0, 0, 0, 0, 0, 0, 0, 0, 0, 0, 0, 0, 0, 0, 0, 0), (0, 0, 0, 0, 0, 0, 0, 0, 0, 0, 0, 0, 0, 0, 0, 0, 0, 0, 0, 0, 0, 0, 0, 0, 0, 0, 0, 0, 0, 0, 0, 0, 0, 0, 0, 0, 0, 0, 0, 0, 0, 0, 0, 0, 0, 0, 0, 0, 0, 0, 0, 0, 0, 0, 0, 0, 0, 0, 0, 0, 0, 0, 0, 0, 0, 0, 0, 0, 0, 0, 0, 0, 0, 0, 0, 0, 0, 0, 0, 0, 0, 0, 0, 0, 0, 0, 0, 0, 0, 0, 0, 0), (0, 0, 0, 0, 0, 0, 0, 0, 0, 0, 0, 0, 0, 0, 0, 0, 0, 0, 0, 0, 0, 0, 0, 0, 0, 0, 0, 0, 0, 0, 0, 0, 0, 0, 0, 0, 0, 0, 0, 0, 0, 0, 0, 0, 0, 0, 0, 0, 0, 0, 0, 0, 0, 0, 0, 0, 0, 0, 0, 0, 0, 0, 0, 0, 0, 0, 0, 0, 0, 0, 0, 0, 0, 0, 0, 0, 0, 0, 0, 0, 0, 0, 0, 0, 0, 0, 0, 0, 0, 0, 0, 0), (0, 0, 0, 0, 0, 0, 0, 0, 0, 0, 0, 0, 0, 0, 0, 0, 0, 0, 0, 0, 0, 0, 0, 0, 0, 0, 0, 0, 0, 0, 0, 0, 0, 0, 0, 0, 0, 0, 0, 0, 0, 0, 0, 0, 0, 0, 0, 0, 0, 0, 0, 0, 0, 0, 0, 0, 0, 0, 0, 0, 0, 0, 0, 0, 0, 0, 0, 0, 0, 0, 0, 0, 0, 0, 0, 0, 0, 0, 0, 0, 0, 0, 0, 0, 0, 0, 0, 0, 0, 0, 0, 0), (0, 0, 0, 0, 0, 0, 0, 0, 0, 0, 0, 0, 0, 0, 0, 0, 0, 0, 0, 0, 0, 0, 0, 0, 0, 0, 0, 0, 0, 0, 0, 0, 0, 0, 0, 0, 0, 0, 0, 0, 0, 0, 0, 0, 0, 0, 0, 0, 0, 0, 0, 0, 0, 0, 0, 0, 0, 0, 0, 0, 0, 0, 0, 0, 0, 0, 0, 0, 0, 0, 0, 0, 0, 0, 0, 0, 0, 0, 0, 0, 0, 0, 0, 0, 0, 0, 0, 0, 0, 0, 0, 0)]\n"
     ]
    }
   ],
   "source": [
    "Field = GF(next_prime(200))\n",
    "\n",
    "BBf = []\n",
    "for k in range(n+1):\n",
    "        Bk = matrix(Field, KBBN[k])\n",
    "        BBf.append(Bk[:, :])\n",
    "        \n",
    "if rank(BBf[0]) == bezout_exact_dim:\n",
    "    XX = []\n",
    "    for k in range(n):\n",
    "        xx = BBf[0].solve_right(BBf[k+1])\n",
    "        XX.append(xx)\n",
    "    Pf = [P2field(p) for p in P]\n",
    "    test_XX = [bz.X2p(XX, Field, p) for p in Pf[:n]]\n",
    "    #f.write(\"test_XX = {0:s}\".format(test_XX))\n",
    "    print(\"test_XX = {0:s}\".format(test_XX))\n",
    "else:\n",
    "        print \"rank deficiency !\""
   ]
  },
  {
   "cell_type": "code",
   "execution_count": 23,
   "metadata": {
    "collapsed": false
   },
   "outputs": [
    {
     "data": {
      "text/plain": [
       "array([  1.04447006e-08,   1.11130083e-08,   1.21778524e-08,\n",
       "         1.14773905e-09,   3.25387274e-10,   1.03402708e-08,\n",
       "         1.57032665e-09,   8.80291761e-10,   4.31204107e-10,\n",
       "         7.22997289e-10,   1.83710122e-10,   6.83079561e-10,\n",
       "         2.30212093e-10,   2.35890394e-10,   4.47782694e-11,\n",
       "         7.00316042e-11,   1.15777035e-07,   1.96195750e-10,\n",
       "         1.19633205e-09,   9.20696585e-10,   2.43815591e-09,\n",
       "         4.15937867e-10,   1.51603721e-09,   1.98542095e-09,\n",
       "         4.28967453e-10,   2.43701442e-11,   2.54939684e-10,\n",
       "         7.65528101e-11,   3.02568809e-10,   1.35129953e-10,\n",
       "         1.30115097e-09,   1.41971866e-10,   5.56761672e-11,\n",
       "         2.34194705e-10,   1.43314097e-10,   6.29422775e-11,\n",
       "         5.55530434e-10,   5.91428516e-11,   1.38567354e-10,\n",
       "         2.85975057e-11,   1.54302808e-10,   5.12358496e-11,\n",
       "         6.14025438e-11,   7.53797695e-10,   1.06325157e-09,\n",
       "         3.51419892e-08,   1.26068084e-10,   8.60138265e-11,\n",
       "         1.25936267e-09,   1.68944577e-10,   1.18990183e-10,\n",
       "         2.30560576e-10,   3.80983159e-10,   4.46884068e-09,\n",
       "         9.26758851e-10,   7.74972542e-11,   4.62233669e-10,\n",
       "         2.67110947e-10,   8.69440291e-11,   5.94386397e-10,\n",
       "         9.09589934e-11,   2.06689246e-09,   2.08204191e-09,\n",
       "         1.31810567e-10,   7.14678521e-11,   1.56483828e-10,\n",
       "         5.60234330e-11,   4.26863167e-11,   1.98350428e-11,\n",
       "         2.03675383e-10,   1.59342894e-10,   8.87246623e-11,\n",
       "         1.04470228e-09,   1.18470337e-10,   8.51091588e-10,\n",
       "         1.04487422e-09,   2.02263831e-09,   3.23870941e-10,\n",
       "         9.62318311e-11,   1.28489982e-10,   1.17913522e-10,\n",
       "         4.61005890e-10,   1.31777979e-09,   9.86826537e-10,\n",
       "         8.34067391e-10,   8.40607262e-10,   8.55587436e-10,\n",
       "         5.89078212e-10,   1.10575495e-10,   1.82930155e-10,\n",
       "         1.97558690e-09,   3.33117374e-09])"
      ]
     },
     "execution_count": 23,
     "metadata": {},
     "output_type": "execute_result"
    }
   ],
   "source": [
    "bb = []\n",
    "for k in range(n+1):\n",
    "    bb.append(np.array(KBBN[k], dtype=float))\n",
    "roots = bz.BB2roots(bb)\n",
    "test_roots = bz.roots_test(P, x, roots)\n",
    "test_roots"
   ]
  },
  {
   "cell_type": "code",
   "execution_count": 24,
   "metadata": {
    "collapsed": false
   },
   "outputs": [
    {
     "data": {
      "text/plain": [
       "(array([11, 32, 17, 24,  2,  4,  2]),\n",
       " array([-10.70256686, -10.16453982,  -9.62651278,  -9.08848574,\n",
       "         -8.5504587 ,  -8.01243166,  -7.47440462,  -6.93637758]))"
      ]
     },
     "execution_count": 24,
     "metadata": {},
     "output_type": "execute_result"
    }
   ],
   "source": [
    "hist, bin_edges = np.histogram(np.log10(test_roots), bins='scott')\n",
    "hist, bin_edges"
   ]
  }
 ],
 "metadata": {
  "anaconda-cloud": {},
  "kernelspec": {
   "display_name": "SageMath 7.3",
   "language": "",
   "name": "sagemath"
  },
  "language_info": {
   "codemirror_mode": {
    "name": "ipython",
    "version": 2
   },
   "file_extension": ".py",
   "mimetype": "text/x-python",
   "name": "python",
   "nbconvert_exporter": "python",
   "pygments_lexer": "ipython2",
   "version": "2.7.10"
  }
 },
 "nbformat": 4,
 "nbformat_minor": 0
}
