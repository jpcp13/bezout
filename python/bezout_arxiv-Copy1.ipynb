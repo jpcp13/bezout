{
 "cells": [
  {
   "cell_type": "code",
   "execution_count": 197,
   "metadata": {
    "collapsed": false
   },
   "outputs": [
    {
     "name": "stdout",
     "output_type": "stream",
     "text": [
      "sage_rank = 183\n",
      "numpy_rank = 183\n",
      "(240, 229) 177 11\n",
      "(240, 223) 177 6\n",
      "(240, 223) 177 0\n",
      "bbt\n",
      "(223, 240) 177 0\n"
     ]
    }
   ],
   "source": [
    "import numpy as np\n",
    "import scipy.linalg as la\n",
    "import time\n",
    "import bezout_5 as bz\n",
    "\n",
    "#TEX_DIR = '/home/jp/Documents/Bezout/bezout/tex/txt'\n",
    "TEX_DIR = '../tex/txt'\n",
    "\n",
    "deg = [1, 1, 2, 1, 1]\n",
    "\n",
    "with open(TEX_DIR+'/deg.txt', 'w') as f:\n",
    "    f.write(str(deg))\n",
    "    \n",
    "t = 5\n",
    "m = 16000\n",
    "n = len(deg)\n",
    "\n",
    "Field = QQ\n",
    "R = PolynomialRing(Field, 'x', n)\n",
    "x = R.gens()\n",
    "xx = [x[0]**0] + list(x)\n",
    "\n",
    "fshape = [d+1 for d in deg]\n",
    "dx = [(i+1)*deg[i] for i in range(n)]\n",
    "dy = [(n-i)*deg[i] for i in range(n)]\n",
    "fn, Dx, Dy = factorial(n), prod(dx), prod(dy)\n",
    "with open(TEX_DIR+'/Dx.txt', 'w') as f:\n",
    "    f.write(\"{0:d}\".format(Dx))\n",
    "\n",
    "\n",
    "P = [bz.rand_poly(n-1, m, deg, t, x) for i in range(n)] + xx\n",
    "#P = load('P.sobj')\n",
    "\n",
    "save(P, 'P')\n",
    "bz.P2txt(n, deg, P, TEX_DIR)\n",
    "F = [bz.poly2prism(fshape, p) for p in P]\n",
    "\n",
    "TEX_DIR\n",
    "\n",
    "t = time.clock()\n",
    "Gx, Gy, Hx, Hy = bz._GH(n, fn, deg, dx, dy)\n",
    "H, K = bz._HK(n, Hx, Hy)\n",
    "J = bz._J(Dx, Dy, F, n, fshape, dx, dy, Gx, Gy)\n",
    "C = bz._C(n, Dx, Dy, J)\n",
    "B = bz._B(n, Dx, Dy, H, K, C)\n",
    "\n",
    "construction_B_time = time.clock() - t\n",
    "with open(TEX_DIR+'/construction_B_time.txt', 'w') as f:\n",
    "    f.write(\"{0:.4f}\".format(construction_B_time))\n",
    "\n",
    "#B = bz.block_triang(n, Dx, Dy, dx, dy, deg, B)\n",
    "BB = []\n",
    "for k in range(n+1):\n",
    "        Bk = matrix(Field, B[k])\n",
    "        BB.append(Bk[:, :])\n",
    "bz.bz2txt(n, TEX_DIR, BB)\n",
    "\n",
    "\"\"\"\n",
    "computing rank of B0\n",
    "\"\"\"\n",
    "t = time.clock()\n",
    "r0 = rank(BB[0])\n",
    "rank_B0_time = time.clock() - t\n",
    "\n",
    "with open(TEX_DIR+'/rank_B0.txt', 'w') as f:\n",
    "    f.write(\"{0:d}\".format(r0))\n",
    "with open(TEX_DIR+'/rank_B0_time.txt', 'w') as f:\n",
    "    f.write(\"{0:.4f}\".format(rank_B0_time))\n",
    "print(\"sage_rank = {0:d}\".format(r0))\n",
    "\n",
    "bb = []\n",
    "for k in range(n+1):\n",
    "    bb.append(np.array(BB[k], dtype=float))\n",
    "\n",
    "b0 = bb[0]\n",
    "numpy_rank = np.linalg.matrix_rank(b0)\n",
    "print(\"numpy_rank = {0:d}\".format(numpy_rank))\n",
    "\n",
    "\"\"\"\n",
    "reduction of Bezoutian matrices\n",
    "\"\"\"\n",
    "epsi = abs(b0).max()/1.0e6\n",
    "\n",
    "t = time.clock()\n",
    "nb_relations = 1\n",
    "while nb_relations > 0:\n",
    "    bb, r0, nb_relations = bz.iteration(bb, r0, epsi)\n",
    "    print bb[0].shape, r0, nb_relations\n",
    "\n",
    "print \"bbt\"\n",
    "bbt = []\n",
    "for k in range(n+1):\n",
    "    bbt.append(bb[k].T)\n",
    "nb_relations = 1\n",
    "while nb_relations > 0:\n",
    "    bbt, r0, nb_relations = bz.iteration(bbt, r0, epsi)\n",
    "    print bbt[0].shape, r0, nb_relations\n",
    "reductions_time = time.clock() - t\n",
    "with open(TEX_DIR+'/bezout_dim.txt', 'w') as f:\n",
    "    f.write(\"{0:d}\".format(r0))\n",
    "with open(TEX_DIR+'/reductions_time.txt', 'w') as f:\n",
    "    f.write(\"{0:.4f}\".format(reductions_time))\n",
    "\n",
    "\"\"\"\n",
    "Numerical compation of the roots\n",
    "\"\"\"\n",
    "t = time.clock()\n",
    "bbt_roots = bz.bbt2roots(bbt, epsi, r0)\n",
    "compute_roots_time = time.clock() - t\n",
    "with open(TEX_DIR+'/compute_roots_time.txt', 'w') as f:\n",
    "    f.write(\"{0:.4f}\".format(compute_roots_time))\n",
    "\n",
    "test_bbtr = bz.roots_test(P, x, bbt_roots)\n",
    "test_roots = np.sort(test_bbtr[:])\n",
    "\n",
    "np.savetxt(TEX_DIR+'/test_roots.txt', test_roots,  fmt='%1.3e')\n",
    "\n",
    "hist, bin_edges = np.histogram(np.log10(test_roots), bins='scott')"
   ]
  },
  {
   "cell_type": "code",
   "execution_count": 40,
   "metadata": {
    "collapsed": false
   },
   "outputs": [],
   "source": [
    "with open(TEX_DIR+'/histogram.txt', 'w') as f:\n",
    "    for k in range(len(hist)):\n",
    "        nb_roots = hist[k]\n",
    "        left_bin, right_bin = bin_edges[k], bin_edges[k+1]\n",
    "        if nb_roots > 0:\n",
    "            if k < len(hist)-1:\n",
    "                f.write(\"$[{0:2.1f}, {1:2.1f}]$ & ${2:d}$\\\\\\\\\\n\".format(left_bin, right_bin, nb_roots))\n",
    "            else:\n",
    "                f.write(\"$[{0:2.1f}, {1:2.1f}]$ & ${2:d}$\\n\".format(left_bin, right_bin, nb_roots))"
   ]
  },
  {
   "cell_type": "code",
   "execution_count": 39,
   "metadata": {
    "collapsed": false
   },
   "outputs": [],
   "source": [
    "t = time.clock()\n",
    "GB, grobner_dim = bz.compute_grobner(R, P, n)\n",
    "grobner_time = time.clock() - t\n",
    "bz.gb2txt(TEX_DIR, GB)\n",
    "\n",
    "with open(TEX_DIR+'/grobner_dim.txt', 'w') as f:\n",
    "    f.write(\"{0}\".format(grobner_dim))\n",
    "\n",
    "with open(TEX_DIR+'/grobner_time.txt', 'w') as f:\n",
    "    f.write(\"{0:.4f}\".format(grobner_time))"
   ]
  },
  {
   "cell_type": "code",
   "execution_count": null,
   "metadata": {
    "collapsed": true
   },
   "outputs": [],
   "source": [
    "with open(TEX_DIR+'/bezout_exact.txt', 'w') as f:\n",
    "    X = matrix(ZZ, Dx, 0)\n",
    "    X_ortho = X.kernel().basis_matrix().LLL().transpose()\n",
    "    Y, Y_time = bz.BB2Y(BB, X_ortho)\n",
    "    f.write(\"nb de Y-relations = {0:d}\\n\".format(Y.nrows()))\n",
    "\n",
    "    \n",
    "    K = bz.Y2K(BB[0], X_ortho, Y)\n",
    "    X_dim = Dx - K.nrows()\n",
    "    f.write(\"X_dim = {0:d}\\n\".format(X_dim))\n",
    "\n",
    "    \n",
    "    Y_ortho = Y.right_kernel_matrix().LLL()\n",
    "    X, X_time = bz.BB2X(BB, Y_ortho)\n",
    "    N = bz.X2N(BB[0], Y_ortho, X)\n",
    "    X_ortho = X.kernel().basis_matrix().LLL().transpose()\n",
    "    f.write(\"nb de X-relations = {0:d}\\n\".format(X.ncols()))"
   ]
  },
  {
   "cell_type": "code",
   "execution_count": 9,
   "metadata": {
    "collapsed": false
   },
   "outputs": [],
   "source": [
    "def find_Y(BB, B0Y):\n",
    "    nr, nc = BB[0].nrows(), BB[0].ncols()\n",
    "    while True:\n",
    "        old_nbr = B0Y.nrows()\n",
    "        print old_nbr\n",
    "        K_lambda = B0Y.kernel().basis_matrix()\n",
    "        K = K_lambda[:, 0:nc]\n",
    "        Y = matrix(Field, 0, nc)\n",
    "        for k in range(1, n+1):\n",
    "            Yk = K*BB[k]\n",
    "            Y = block_matrix(2, 1, [Y, Yk]).LLL()\n",
    "            nzr = bz.nzrows(Y) \n",
    "            Y = Y[nzr, :]\n",
    "        B0Y = block_matrix(2, 1, [BB[0], Y])\n",
    "        if B0Y.nrows() == old_nbr:\n",
    "            break\n",
    "            \n",
    "    return Y"
   ]
  },
  {
   "cell_type": "code",
   "execution_count": 205,
   "metadata": {
    "collapsed": false
   },
   "outputs": [],
   "source": [
    "def P2field(p):\n",
    "    coeffs, monoms = p.coefficients(), p.monomials()\n",
    "    return sum([Field(coeffs[i])*monoms[i] for i in range(len(coeffs))])"
   ]
  },
  {
   "cell_type": "code",
   "execution_count": 198,
   "metadata": {
    "collapsed": false
   },
   "outputs": [
    {
     "name": "stdout",
     "output_type": "stream",
     "text": [
      "240\n",
      "251\n",
      "257\n",
      "240\n",
      "251\n",
      "257\n",
      "177\n",
      "177\n",
      "177\n"
     ]
    }
   ],
   "source": [
    "B0Y = BB[0]\n",
    "Y = find_Y(BB, B0Y)\n",
    "Y_ortho = Y.right_kernel_matrix()\n",
    "\n",
    "BBt = []\n",
    "for k in range(n+1):\n",
    "    BBt.append(BB[k].transpose())\n",
    "    \n",
    "B0Yt = B0Y.transpose()\n",
    "\n",
    "X = find_Y(BBt, B0Yt)\n",
    "X_ortho = X.right_kernel_matrix()\n",
    "\n",
    "xbb0 = X_ortho*BB[0]\n",
    "print rank(xbb0)\n",
    "bb0y = BB[0]*Y_ortho.transpose()\n",
    "print rank(bb0y)\n",
    "xbb0y = X_ortho*BB[0]*Y_ortho.transpose()\n",
    "print rank(xbb0y)"
   ]
  },
  {
   "cell_type": "code",
   "execution_count": 199,
   "metadata": {
    "collapsed": false
   },
   "outputs": [
    {
     "name": "stdout",
     "output_type": "stream",
     "text": [
      "bezout_exact_dim = 177\n",
      "\n"
     ]
    }
   ],
   "source": [
    "XBBY = []\n",
    "for k in range(n+1):\n",
    "    XBBY.append(X_ortho*BB[k]*Y_ortho.transpose())\n",
    "bezout_exact_dim = rank(XBBY[0])\n",
    "#f.write(\"bezout_exact_dim = {0:d}\\n\".format(bezout_exact_dim))\n",
    "print(\"bezout_exact_dim = {0:d}\\n\".format(bezout_exact_dim))"
   ]
  },
  {
   "cell_type": "code",
   "execution_count": 200,
   "metadata": {
    "collapsed": false
   },
   "outputs": [],
   "source": [
    "K_ortho = XBBY[0].kernel().basis_matrix().right_kernel_matrix()\n",
    "N_ortho = XBBY[0].right_kernel_matrix().right_kernel_matrix()\n",
    "#N_ortho = N.kernel().basis_matrix().transpose()\n",
    "\n",
    "KBBN = []\n",
    "for k in range(n+1):\n",
    "    KBBN.append(K_ortho*XBBY[k]*N_ortho.transpose())"
   ]
  },
  {
   "cell_type": "code",
   "execution_count": 208,
   "metadata": {
    "collapsed": false
   },
   "outputs": [],
   "source": [
    "Field = GF(next_prime(10^10))"
   ]
  },
  {
   "cell_type": "code",
   "execution_count": null,
   "metadata": {
    "collapsed": false
   },
   "outputs": [],
   "source": [
    "BBf = []\n",
    "for k in range(n+1):\n",
    "        Bk = matrix(Field, KBBN[k])\n",
    "        BBf.append(Bk[:, :])\n",
    "\n",
    "XX = []\n",
    "for k in range(n):\n",
    "    xx = BBf[0].solve_right(BBf[k+1])\n",
    "    XX.append(xx)"
   ]
  },
  {
   "cell_type": "code",
   "execution_count": 206,
   "metadata": {
    "collapsed": true
   },
   "outputs": [],
   "source": [
    "Pf = [P2field(p) for p in P]"
   ]
  },
  {
   "cell_type": "code",
   "execution_count": 207,
   "metadata": {
    "collapsed": false
   },
   "outputs": [
    {
     "name": "stdout",
     "output_type": "stream",
     "text": [
      "test_XX = [(0, 0, 0, 0, 0, 0, 0, 0, 0, 0, 0, 0, 0, 0, 0, 0, 0, 0, 0, 0, 0, 0, 0, 0, 0, 0, 0, 0, 0, 0, 0, 0, 0, 0, 0, 0, 0, 0, 0, 0, 0, 0, 0, 0, 0, 0, 0, 0, 0, 0, 0, 0, 0, 0, 0, 0, 0, 0, 0, 0, 0, 0, 0, 0, 0, 0, 0, 0, 0, 0, 0, 0, 0, 0, 0, 0, 0, 0, 0, 0, 0, 0, 0, 0, 0, 0, 0, 0, 0, 0, 0, 0, 0, 0, 0, 0, 0, 0, 0, 0, 0, 0, 0, 0, 0, 0, 0, 0, 0, 0, 0, 0, 0, 0, 0, 0, 0, 0, 0, 0, 0, 0, 0, 0, 0, 0, 0, 0, 0, 0, 0, 0, 0, 0, 0, 0, 0, 0, 0, 0, 0, 0, 0, 0, 0, 0, 0, 0, 0, 0, 0, 0, 0, 0, 0, 0, 0, 0, 0, 0, 0, 0, 0, 0, 0, 0, 0, 0, 0, 0, 0, 0, 0, 0, 0, 0, 0), (0, 0, 0, 0, 0, 0, 0, 0, 0, 0, 0, 0, 0, 0, 0, 0, 0, 0, 0, 0, 0, 0, 0, 0, 0, 0, 0, 0, 0, 0, 0, 0, 0, 0, 0, 0, 0, 0, 0, 0, 0, 0, 0, 0, 0, 0, 0, 0, 0, 0, 0, 0, 0, 0, 0, 0, 0, 0, 0, 0, 0, 0, 0, 0, 0, 0, 0, 0, 0, 0, 0, 0, 0, 0, 0, 0, 0, 0, 0, 0, 0, 0, 0, 0, 0, 0, 0, 0, 0, 0, 0, 0, 0, 0, 0, 0, 0, 0, 0, 0, 0, 0, 0, 0, 0, 0, 0, 0, 0, 0, 0, 0, 0, 0, 0, 0, 0, 0, 0, 0, 0, 0, 0, 0, 0, 0, 0, 0, 0, 0, 0, 0, 0, 0, 0, 0, 0, 0, 0, 0, 0, 0, 0, 0, 0, 0, 0, 0, 0, 0, 0, 0, 0, 0, 0, 0, 0, 0, 0, 0, 0, 0, 0, 0, 0, 0, 0, 0, 0, 0, 0, 0, 0, 0, 0, 0, 0), (0, 0, 0, 0, 0, 0, 0, 0, 0, 0, 0, 0, 0, 0, 0, 0, 0, 0, 0, 0, 0, 0, 0, 0, 0, 0, 0, 0, 0, 0, 0, 0, 0, 0, 0, 0, 0, 0, 0, 0, 0, 0, 0, 0, 0, 0, 0, 0, 0, 0, 0, 0, 0, 0, 0, 0, 0, 0, 0, 0, 0, 0, 0, 0, 0, 0, 0, 0, 0, 0, 0, 0, 0, 0, 0, 0, 0, 0, 0, 0, 0, 0, 0, 0, 0, 0, 0, 0, 0, 0, 0, 0, 0, 0, 0, 0, 0, 0, 0, 0, 0, 0, 0, 0, 0, 0, 0, 0, 0, 0, 0, 0, 0, 0, 0, 0, 0, 0, 0, 0, 0, 0, 0, 0, 0, 0, 0, 0, 0, 0, 0, 0, 0, 0, 0, 0, 0, 0, 0, 0, 0, 0, 0, 0, 0, 0, 0, 0, 0, 0, 0, 0, 0, 0, 0, 0, 0, 0, 0, 0, 0, 0, 0, 0, 0, 0, 0, 0, 0, 0, 0, 0, 0, 0, 0, 0, 0), (0, 0, 0, 0, 0, 0, 0, 0, 0, 0, 0, 0, 0, 0, 0, 0, 0, 0, 0, 0, 0, 0, 0, 0, 0, 0, 0, 0, 0, 0, 0, 0, 0, 0, 0, 0, 0, 0, 0, 0, 0, 0, 0, 0, 0, 0, 0, 0, 0, 0, 0, 0, 0, 0, 0, 0, 0, 0, 0, 0, 0, 0, 0, 0, 0, 0, 0, 0, 0, 0, 0, 0, 0, 0, 0, 0, 0, 0, 0, 0, 0, 0, 0, 0, 0, 0, 0, 0, 0, 0, 0, 0, 0, 0, 0, 0, 0, 0, 0, 0, 0, 0, 0, 0, 0, 0, 0, 0, 0, 0, 0, 0, 0, 0, 0, 0, 0, 0, 0, 0, 0, 0, 0, 0, 0, 0, 0, 0, 0, 0, 0, 0, 0, 0, 0, 0, 0, 0, 0, 0, 0, 0, 0, 0, 0, 0, 0, 0, 0, 0, 0, 0, 0, 0, 0, 0, 0, 0, 0, 0, 0, 0, 0, 0, 0, 0, 0, 0, 0, 0, 0, 0, 0, 0, 0, 0, 0), (0, 0, 0, 0, 0, 0, 0, 0, 0, 0, 0, 0, 0, 0, 0, 0, 0, 0, 0, 0, 0, 0, 0, 0, 0, 0, 0, 0, 0, 0, 0, 0, 0, 0, 0, 0, 0, 0, 0, 0, 0, 0, 0, 0, 0, 0, 0, 0, 0, 0, 0, 0, 0, 0, 0, 0, 0, 0, 0, 0, 0, 0, 0, 0, 0, 0, 0, 0, 0, 0, 0, 0, 0, 0, 0, 0, 0, 0, 0, 0, 0, 0, 0, 0, 0, 0, 0, 0, 0, 0, 0, 0, 0, 0, 0, 0, 0, 0, 0, 0, 0, 0, 0, 0, 0, 0, 0, 0, 0, 0, 0, 0, 0, 0, 0, 0, 0, 0, 0, 0, 0, 0, 0, 0, 0, 0, 0, 0, 0, 0, 0, 0, 0, 0, 0, 0, 0, 0, 0, 0, 0, 0, 0, 0, 0, 0, 0, 0, 0, 0, 0, 0, 0, 0, 0, 0, 0, 0, 0, 0, 0, 0, 0, 0, 0, 0, 0, 0, 0, 0, 0, 0, 0, 0, 0, 0, 0)]\n"
     ]
    }
   ],
   "source": [
    "test_XX = [bz.X2p(XX, Field, p) for p in Pf[:n]]\n",
    "\n",
    "#f.write(\"test_XX = {0:s}\".format(test_XX))\n",
    "print(\"test_XX = {0:s}\".format(test_XX))"
   ]
  },
  {
   "cell_type": "code",
   "execution_count": 116,
   "metadata": {
    "collapsed": false
   },
   "outputs": [
    {
     "data": {
      "text/plain": [
       "array([  7.16685873e-02,   8.76612458e-06,   4.76591492e-08,\n",
       "         7.14026010e-11,   2.06149314e-09,   9.39328449e-11,\n",
       "         5.27492986e-11,   1.81704789e-10,   3.19894440e-12,\n",
       "         3.62795418e-12,   1.16712156e-11,   3.02137229e-10,\n",
       "         6.04864754e-09,   5.62493760e-09,   1.97206716e-09,\n",
       "         2.27089921e-09,   2.12490550e-11,   3.97954115e-11,\n",
       "         5.92934234e-11,   8.77243489e-11,   2.35791144e-11,\n",
       "         2.38032623e-11,   3.62223763e-11,   1.27954324e-10,\n",
       "         1.46773837e-09,   5.95678569e-11,   6.37466376e-11,\n",
       "         5.17003064e-10,   3.53604373e+00,   3.44390541e-11,\n",
       "         1.93908324e-12,   6.27849998e-12,   4.06204735e-12,\n",
       "         2.72233974e-12,   1.61449653e-12,   2.07768702e-11,\n",
       "         6.66190561e-12,   8.11893220e-13,   4.79500629e-12,\n",
       "         9.22828303e-13,   3.20559311e-12,   2.01008660e-13,\n",
       "         6.21074767e-12,   1.60360717e-13,   1.61387911e-12,\n",
       "         2.51534190e-13,   1.25904116e-12,   2.40024586e-13,\n",
       "         2.02275847e-12,   1.52676990e-12,   6.39279782e-13,\n",
       "         2.07642593e-11,   4.88420039e-13,   5.05838094e-13,\n",
       "         1.49138691e-12,   8.20251626e-13,   4.34072518e-12,\n",
       "         3.19003231e-12,   5.60803585e-11,   2.14416597e-13,\n",
       "         4.60682395e-13,   3.65194123e-11,   1.71969406e-12,\n",
       "         1.28119034e-12,   7.11905479e-13,   9.22908142e-13,\n",
       "         7.23747687e-12,   5.86338070e-13,   6.64998170e-13,\n",
       "         1.65791537e-13,   1.27563944e-13,   4.05286533e-13,\n",
       "         7.89329954e-13,   4.03273099e-13,   4.02558849e-13,\n",
       "         4.81386009e-13,   3.64007505e-13,   2.36307934e-13,\n",
       "         2.55820667e-13,   3.81777621e-13,   2.22382334e-12,\n",
       "         6.71493056e-13,   3.16353139e-13,   1.37572109e-12,\n",
       "         4.12892007e-13,   1.07325662e-12,   8.93794436e-13,\n",
       "         5.48636056e-13,   4.40406218e-13,   2.05308090e-13,\n",
       "         5.18915691e-13,   4.13099598e-13,   2.39634633e-13,\n",
       "         3.05617341e-13,   3.13682199e-13,   5.83254332e-13,\n",
       "         3.61496257e-13,   1.14231670e-12,   4.79736502e-13,\n",
       "         6.69959034e-13,   5.45138919e-13,   2.88278265e-13,\n",
       "         2.20625473e-13,   2.39105466e-13,   8.39810544e-13,\n",
       "         2.19563044e-13,   2.55487943e-13,   1.48325736e-12,\n",
       "         6.52496178e-13,   3.25408924e-13,   1.71329196e-13,\n",
       "         1.64955448e-13,   1.31913909e-12,   2.02745267e-12,\n",
       "         1.32191651e-12,   7.26479430e-13,   8.23071598e-13,\n",
       "         8.05544140e-13,   1.11662558e-12,   8.85069468e-13,\n",
       "         2.23919393e-13,   2.37475906e-13,   2.39594169e-13,\n",
       "         2.18424796e-13,   1.44565955e-12,   2.58676822e-12,\n",
       "         2.50575643e-12,   2.13034845e-12,   1.31665557e-12,\n",
       "         9.11076216e-13,   1.00777120e-11,   4.33752814e-12,\n",
       "         1.50635052e-12,   5.05890199e-12,   2.10916715e-12,\n",
       "         7.01774878e-12,   8.19231284e-12,   4.30832432e-12,\n",
       "         2.98442570e-12,   2.38087536e-12,   6.00670991e-12,\n",
       "         3.80711156e-12,   7.09049637e-13,   3.47606234e-13,\n",
       "         8.71221416e-13,   3.85073124e-13,   4.54754817e-12,\n",
       "         1.95205623e-12,   3.83385872e-12,   2.91346235e-13,\n",
       "         3.13545164e-13,   3.84725171e-13,   6.71868063e-14,\n",
       "         5.60807190e-12,   1.34186736e-12,   1.06634639e-12,\n",
       "         1.69256379e-12,   9.38114137e-13,   1.19365292e+01,\n",
       "         2.27215070e-12])"
      ]
     },
     "execution_count": 116,
     "metadata": {},
     "output_type": "execute_result"
    }
   ],
   "source": [
    "bb = []\n",
    "for k in range(n+1):\n",
    "    bb.append(np.array(KBBN[k], dtype=float))\n",
    "roots = bz.BB2roots(bb)\n",
    "test_roots = bz.roots_test(P, x, roots)\n",
    "test_bbtr"
   ]
  }
 ],
 "metadata": {
  "anaconda-cloud": {},
  "kernelspec": {
   "display_name": "SageMath 7.3",
   "language": "",
   "name": "sagemath"
  },
  "language_info": {
   "codemirror_mode": {
    "name": "ipython",
    "version": 2
   },
   "file_extension": ".py",
   "mimetype": "text/x-python",
   "name": "python",
   "nbconvert_exporter": "python",
   "pygments_lexer": "ipython2",
   "version": "2.7.10"
  }
 },
 "nbformat": 4,
 "nbformat_minor": 0
}
