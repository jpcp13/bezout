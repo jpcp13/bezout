{
 "cells": [
  {
   "cell_type": "code",
   "execution_count": 83,
   "metadata": {
    "collapsed": false
   },
   "outputs": [
    {
     "name": "stdout",
     "output_type": "stream",
     "text": [
      "sage_rank = 363\n",
      "numpy_rank = 363\n",
      "(384, 383) 362 1\n",
      "(384, 382) 362 1\n",
      "(384, 382) 362 0\n"
     ]
    }
   ],
   "source": [
    "import numpy as np\n",
    "import scipy.linalg as la\n",
    "import time\n",
    "import bezout_5 as bz\n",
    "\n",
    "#TEX_DIR = '/home/jp/Documents/Bezout/bezout/tex/txt'\n",
    "TEX_DIR = '../tex/txt'\n",
    "\n",
    "deg = [4, 4, 4]\n",
    "\n",
    "with open(TEX_DIR+'/deg.txt', 'w') as f:\n",
    "    f.write(str(deg))\n",
    "    \n",
    "t = 5\n",
    "m = 16000\n",
    "n = len(deg)\n",
    "\n",
    "Field = ZZ\n",
    "R = PolynomialRing(Field, 'x', n)\n",
    "x = R.gens()\n",
    "xx = [x[0]**0] + list(x)\n",
    "\n",
    "fshape = [d+1 for d in deg]\n",
    "dx = [(i+1)*deg[i] for i in range(n)]\n",
    "dy = [(n-i)*deg[i] for i in range(n)]\n",
    "fn, Dx, Dy = factorial(n), prod(dx), prod(dy)\n",
    "with open(TEX_DIR+'/Dx.txt', 'w') as f:\n",
    "    f.write(\"{0:d}\".format(Dx))\n",
    "\n",
    "\n",
    "P = [bz.rand_poly(n-1, m, deg, t, x) for i in range(n)] + xx\n",
    "#P = load('P.sobj')\n",
    "\n",
    "save(P, 'P')\n",
    "bz.P2txt(n, deg, P, TEX_DIR)\n",
    "F = [bz.poly2prism(fshape, p) for p in P]\n",
    "\n",
    "TEX_DIR\n",
    "\n",
    "t = time.clock()\n",
    "Gx, Gy, Hx, Hy = bz._GH(n, fn, deg, dx, dy)\n",
    "H, K = bz._HK(n, Hx, Hy)\n",
    "J = bz._J(Dx, Dy, F, n, fshape, dx, dy, Gx, Gy)\n",
    "C = bz._C(n, Dx, Dy, J)\n",
    "B = bz._B(n, Dx, Dy, H, K, C)\n",
    "\n",
    "construction_B_time = time.clock() - t\n",
    "with open(TEX_DIR+'/construction_B_time.txt', 'w') as f:\n",
    "    f.write(\"{0:.4f}\".format(construction_B_time))\n",
    "\n",
    "#B = bz.block_triang(n, Dx, Dy, dx, dy, deg, B)\n",
    "BB = []\n",
    "for k in range(n+1):\n",
    "        Bk = matrix(Field, B[k])\n",
    "        BB.append(Bk[:, :])\n",
    "bz.bz2txt(n, TEX_DIR, BB)\n",
    "\n",
    "\"\"\"\n",
    "computing rank of B0\n",
    "\"\"\"\n",
    "t = time.clock()\n",
    "r0 = rank(BB[0])\n",
    "rank_B0_time = time.clock() - t\n",
    "\n",
    "with open(TEX_DIR+'/rank_B0.txt', 'w') as f:\n",
    "    f.write(\"{0:d}\".format(r0))\n",
    "with open(TEX_DIR+'/rank_B0_time.txt', 'w') as f:\n",
    "    f.write(\"{0:.4f}\".format(rank_B0_time))\n",
    "print(\"sage_rank = {0:d}\".format(r0))\n",
    "\n",
    "bb = []\n",
    "for k in range(n+1):\n",
    "    bb.append(np.array(BB[k], dtype=float))\n",
    "\n",
    "b0 = bb[0]\n",
    "numpy_rank = np.linalg.matrix_rank(b0)\n",
    "print(\"numpy_rank = {0:d}\".format(numpy_rank))\n",
    "\n",
    "\"\"\"\n",
    "reduction of Bezoutian matrices\n",
    "\"\"\"\n",
    "epsi = abs(b0).max()/1e5\n",
    "\n",
    "t = time.clock()\n",
    "nb_relations = 1\n",
    "while nb_relations > 0:\n",
    "    bb, r0, nb_relations = bz.iteration(bb, r0, epsi)\n",
    "    print bb[0].shape, r0, nb_relations"
   ]
  },
  {
   "cell_type": "code",
   "execution_count": 115,
   "metadata": {
    "collapsed": false
   },
   "outputs": [
    {
     "name": "stdout",
     "output_type": "stream",
     "text": [
      "sage_rank = 9\n",
      "numpy_rank = 9\n",
      "(18, 17) 9 1\n",
      "(18, 17) 9 0\n",
      "bbt\n",
      "(17, 18) 9 0\n"
     ]
    }
   ],
   "source": [
    "print \"bbt\"\n",
    "bbt = []\n",
    "for k in range(n+1):\n",
    "    bbt.append(bb[k].T)\n",
    "nb_relations = 1\n",
    "while nb_relations > 0:\n",
    "    bbt, r0, nb_relations = bz.iteration(bbt, r0, epsi)\n",
    "    print bbt[0].shape, r0, nb_relations\n",
    "reductions_time = time.clock() - t\n",
    "with open(TEX_DIR+'/bezout_dim.txt', 'w') as f:\n",
    "    f.write(\"{0:d}\".format(r0))\n",
    "with open(TEX_DIR+'/reductions_time.txt', 'w') as f:\n",
    "    f.write(\"{0:.4f}\".format(reductions_time))\n",
    "\n",
    "\"\"\"\n",
    "Numerical compation of the roots\n",
    "\"\"\"\n",
    "t = time.clock()\n",
    "bbt_roots = bz.bbt2roots(bbt, epsi, r0)\n",
    "compute_roots_time = time.clock() - t\n",
    "with open(TEX_DIR+'/compute_roots_time.txt', 'w') as f:\n",
    "    f.write(\"{0:.4f}\".format(compute_roots_time))\n",
    "\n",
    "test_bbtr = bz.roots_test(P, x, bbt_roots)\n",
    "test_roots = np.sort(test_bbtr[:])\n",
    "\n",
    "np.savetxt(TEX_DIR+'/test_roots.txt', test_roots,  fmt='%1.3e')\n",
    "\n",
    "hist, bin_edges = np.histogram(np.log10(test_roots), bins='scott')"
   ]
  },
  {
   "cell_type": "code",
   "execution_count": 66,
   "metadata": {
    "collapsed": false
   },
   "outputs": [
    {
     "name": "stdout",
     "output_type": "stream",
     "text": [
      "sage_rank = 376\n",
      "numpy_rank = 374\n",
      "(384, 384) 376 0\n",
      "bbt\n",
      "(384, 384) 376 0\n"
     ]
    }
   ],
   "source": [
    "with open(TEX_DIR+'/histogram.txt', 'w') as f:\n",
    "    for k in range(len(hist)):\n",
    "        nb_roots = hist[k]\n",
    "        left_bin, right_bin = bin_edges[k], bin_edges[k+1]\n",
    "        if nb_roots > 0:\n",
    "            if k < len(hist)-1:\n",
    "                f.write(\"$[{0:2.1f}, {1:2.1f}]$ & ${2:d}$\\\\\\\\\\n\".format(left_bin, right_bin, nb_roots))\n",
    "            else:\n",
    "                f.write(\"$[{0:2.1f}, {1:2.1f}]$ & ${2:d}$\\n\".format(left_bin, right_bin, nb_roots))"
   ]
  },
  {
   "cell_type": "code",
   "execution_count": 12,
   "metadata": {
    "collapsed": false
   },
   "outputs": [],
   "source": [
    "t = time.clock()\n",
    "GB, grobner_dim = bz.compute_grobner(R, P, n)\n",
    "grobner_time = time.clock() - t\n",
    "bz.gb2txt(TEX_DIR, GB)\n",
    "\n",
    "with open(TEX_DIR+'/grobner_dim.txt', 'w') as f:\n",
    "    f.write(\"{0}\".format(grobner_dim))\n",
    "\n",
    "with open(TEX_DIR+'/grobner_time.txt', 'w') as f:\n",
    "    f.write(\"{0:.4f}\".format(grobner_time))"
   ]
  },
  {
   "cell_type": "code",
   "execution_count": 3,
   "metadata": {
    "collapsed": false
   },
   "outputs": [
    {
     "data": {
      "text/plain": [
       "[0, 0, 0]"
      ]
     },
     "execution_count": 3,
     "metadata": {},
     "output_type": "execute_result"
    }
   ],
   "source": [
    "with open(TEX_DIR+'/bezout_exact.txt', 'w') as f:\n",
    "    X = matrix(ZZ, Dx, 0)\n",
    "    X_ortho = X.kernel().basis_matrix().LLL().transpose()\n",
    "    Y, Y_time = bz.BB2Y(BB, X_ortho)\n",
    "    f.write(\"nb de Y-relations = {0:d}\\n\".format(Y.nrows()))\n",
    "\n",
    "    \n",
    "    K = bz.Y2K(BB[0], X_ortho, Y)\n",
    "    X_dim = Dx - K.nrows()\n",
    "    f.write(\"X_dim = {0:d}\\n\".format(X_dim))\n",
    "\n",
    "    \n",
    "    Y_ortho = Y.right_kernel_matrix().LLL()\n",
    "    X, X_time = bz.BB2X(BB, Y_ortho)\n",
    "    N = bz.X2N(BB[0], Y_ortho, X)\n",
    "    X_ortho = X.kernel().basis_matrix().LLL().transpose()\n",
    "    f.write(\"nb de X-relations = {0:d}\\n\".format(X.ncols()))\n",
    "\n",
    "    \n",
    "    XBBY = []\n",
    "    for k in range(n+1):\n",
    "        XBBY.append(X_ortho.transpose()*BB[k]*Y_ortho.transpose())\n",
    "    bezout_exact_dim = rank(XBBY[0])\n",
    "    f.write(\"bezout_exact_dim = {0:d}\\n\".format(bezout_exact_dim))\n",
    "\n",
    "    \n",
    "    K_ortho = XBBY[0].kernel().basis_matrix().right_kernel_matrix()\n",
    "    N_ortho = N.kernel().basis_matrix().transpose()\n",
    "\n",
    "    KBBN = []\n",
    "    for k in range(n+1):\n",
    "        KBBN.append(K_ortho*XBBY[k]*N_ortho)\n",
    "\n",
    "    XX = []\n",
    "    for k in range(n):\n",
    "        xx = KBBN[0].solve_right(KBBN[k+1])\n",
    "        XX.append(xx)\n",
    "\n",
    "    test_XX = [norm(bz.X2p(XX, Field, p)) for p in P[:n]]\n",
    "    \n",
    "    f.write(\"test_XX = {0:s}\".format(test_XX))\n",
    "\n",
    "test_XX"
   ]
  },
  {
   "cell_type": "code",
   "execution_count": 84,
   "metadata": {
    "collapsed": false
   },
   "outputs": [
    {
     "name": "stdout",
     "output_type": "stream",
     "text": [
      "384\n",
      "385\n",
      "386\n"
     ]
    }
   ],
   "source": [
    "nr, nc = BB[0].nrows(), BB[0].ncols()\n",
    "B0Y = BB[0]\n",
    "\n",
    "while True:\n",
    "    old_nbr = B0Y.nrows()\n",
    "    print old_nbr\n",
    "    K_lambda = B0Y.kernel().basis_matrix()\n",
    "    K = K_lambda[:, 0:nc]\n",
    "    Y = matrix(Field, 0, nc)\n",
    "    for k in range(1, n+1):\n",
    "        Yk = K*BB[k]\n",
    "        Y = block_matrix(2, 1, [Y, Yk]).LLL()\n",
    "        nzr = bz.nzrows(Y)\n",
    "        Y = Y[nzr, :]\n",
    "    B0Y = block_matrix(2, 1, [BB[0], Y])\n",
    "    if B0Y.nrows() == old_nbr:\n",
    "        break"
   ]
  },
  {
   "cell_type": "code",
   "execution_count": 85,
   "metadata": {
    "collapsed": false
   },
   "outputs": [
    {
     "name": "stdout",
     "output_type": "stream",
     "text": [
      "[    0     0     0     0     0     0     0     0     0     0     0     0     0     0     0     0     0     0     0     0     0     0     0     0     0   -48   -32    64    24    96   312   120   -72     0     0     0     0     0    48   144     0   -40    88    32    24   -24   -48     0     0     0    72    56   -16    24   -72   -96     0     0     0     0     0     0     0    24    -8  -104    24     0   -96    72    72     0     0     0    72    64  -104   -96    48    48     0     0     0     0     0     0     0   -24   -24     0     0     0     0     0     0     0     0     0     0     0     0     0     0     0     0     0     0     0     0     0     0     0     0     0     0     0     0     0     0     0     0     0    96    48  -200   -48     8   -48   144    24   -72     0     0     0  -216  -176    88   144   144    48     0     0     0     0     0     0  -120    40   160   -72     0    72     0     0     0     0     0     0   -96   120   336   288   136   -32     0   -96   -96     0     0    48    32   -16     0    48   -48   -96     0     0     0     0     0     0   -48   -48     0     0     0     0     0     0     0     0     0     0     0     0     0     0     0     0     0     0     0     0     0     0     0     0     0     0     0     0     0     0     0     0     0   -48  -128   -48     8    96   192    72     0   -72   -72     0     0  -120   -32   280   160    88    96  -120   -96     0     0     0     0     0   120   120  -192  -256   -64     0    96    96     0     0     0     0    48   -64  -112    96   120    24     0     0     0     0     0   -96   -64   -16   -48    96    96     0     0     0     0     0     0     0    96    96     0     0     0     0     0     0     0     0     0     0     0     0     0     0     0     0     0     0     0     0     0     0     0     0     0     0     0     0     0     0     0     0     0     0   120    96    48    72   -72   -72     0     0     0     0     0     0     0   -24   -32    -8     0   -24   -24     0     0     0     0     0    48    16    80   112    24    72    48     0     0     0     0     0     0    48    72    32     8     0    24    24     0     0     0   -24   -88    80   120    32   104    48    24    24     0     0     0     0    24    96    72    24    24     0     0     0     0     0]\n",
      "[    0     0     0     0     0     0     0     0     0     0     0     0     0   240   160  -320  -120  -480 -1560  -600   360     0     0     0     0   204  -584  -832   378  -448  -566  1250  -534   120   240     0     0     0  -564  -412  1040  -910   546   664  -102   342  -276     0     0     0  -306   362   -52   418   426  -552   480  -360  -360     0     0     0  -360  -422   794   602 -1062   720  -552  -306   414     0     0     0  -306   568   482  -552  -204   276     0     0     0     0     0     0     0   102  -138     0     0     0     0     0     0     0     0     0     0     0     0     0     0     0     0     0     0     0     0     0  -480  -240  1000   240   -40   240  -720  -120   360     0     0     0   672  1636   -70 -2036   286  -996  -132   858  -414     0     0     0  1518 -1612  -774   228   348   -84     0     0     0     0     0     0   990 -1970  -760 -1134 -1400   574     0   480   480     0     0  -240   248 -1390   732  -264  1342   296     0   408  -552     0     0  -204   584   148     0  -204   684  -552     0     0     0     0     0     0   204  -276     0     0     0     0     0     0     0     0     0     0     0     0     0     0     0     0     0     0     0     0     0   240   640   240   -40  -480  -960  -360     0   360   360     0     0   804   224 -1996  -514 -1088   -96  1014   480   306  -414     0     0   510 -1664  -910  2200   586  1112   270 -1032  -480     0     0     0     0  -750  1010  1376 -1312  -968  -120  -408   552     0     0     0   480   116   832  -404  -888   -30   138     0     0     0     0     0   408 -1168   -92  -276  -408   552     0     0     0     0     0     0     0  -408   552     0     0     0     0     0     0     0     0     0     0     0     0     0     0     0     0     0     0     0     0     0     0  -600  -480  -240  -360   360   360     0     0     0     0     0     0  -510   912  -284   454   306  -294   120     0     0     0     0     0  -240    22  -504  -606  -120  -258  -378     0     0     0     0     0  -204   172 -1020   484  -142   -66   156  -120     0     0     0   120   440  -604  -426   -56  -474  -240  -222    18     0     0     0   102    14 -1460   570  -496    -2   276  -102   138     0     0     0     0  -102  -168   414  -102   138     0     0     0     0     0]\n"
     ]
    }
   ],
   "source": [
    "print Y.LLL().str()"
   ]
  }
 ],
 "metadata": {
  "anaconda-cloud": {},
  "kernelspec": {
   "display_name": "SageMath 7.3",
   "language": "",
   "name": "sagemath"
  },
  "language_info": {
   "codemirror_mode": {
    "name": "ipython",
    "version": 2
   },
   "file_extension": ".py",
   "mimetype": "text/x-python",
   "name": "python",
   "nbconvert_exporter": "python",
   "pygments_lexer": "ipython2",
   "version": "2.7.10"
  }
 },
 "nbformat": 4,
 "nbformat_minor": 0
}
