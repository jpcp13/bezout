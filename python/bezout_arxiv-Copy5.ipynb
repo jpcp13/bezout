{
 "cells": [
  {
   "cell_type": "code",
   "execution_count": 1,
   "metadata": {
    "collapsed": false
   },
   "outputs": [],
   "source": [
    "import numpy as np\n",
    "import scipy.linalg as la\n",
    "import time\n",
    "import bezout_5 as bz"
   ]
  },
  {
   "cell_type": "code",
   "execution_count": 2,
   "metadata": {
    "collapsed": false
   },
   "outputs": [],
   "source": [
    "TEX_DIR = '/home/jp/Documents/Bezout/bezout/tex/txt'\n",
    "deg = [1,1,1,1,1]\n",
    "with open(TEX_DIR+'/deg.txt', 'w') as f:\n",
    "    f.write(str(deg))\n",
    "    \n",
    "t = 10\n",
    "m = 16000\n",
    "n = len(deg)\n",
    "\n",
    "Field = QQ\n",
    "R = PolynomialRing(Field, 'x', n)\n",
    "x = R.gens()\n",
    "xx = [x[0]**0] + list(x)\n",
    "\n",
    "fshape = [d+1 for d in deg]\n",
    "dx = [(i+1)*deg[i] for i in range(n)]\n",
    "dy = [(n-i)*deg[i] for i in range(n)]\n",
    "fn, Dx, Dy = factorial(n), prod(dx), prod(dy)\n",
    "with open(TEX_DIR+'/Dx.txt', 'w') as f:\n",
    "    f.write(\"{0:d}\".format(Dx))\n",
    "\n",
    "\n",
    "P = [bz.rand_poly(n-1, m, deg, t, x) for i in range(n)] + xx\n",
    "#bz.pol2tex(n, P, TEX_DIR+'/P')\n",
    "\n",
    "bz.P2txt(n, deg, P, TEX_DIR)\n",
    "#P = load('P.sobj')\n",
    "F = [bz.poly2prism(fshape, p) for p in P]"
   ]
  },
  {
   "cell_type": "code",
   "execution_count": 3,
   "metadata": {
    "collapsed": true
   },
   "outputs": [],
   "source": [
    "t = time.clock()\n",
    "Gx, Gy, Hx, Hy = bz._GH(n, fn, deg, dx, dy)\n",
    "H, K = bz._HK(n, Hx, Hy)\n",
    "J = bz._J(Dx, Dy, F, n, fshape, dx, dy, Gx, Gy)\n",
    "C = bz._C(n, Dx, Dy, J)\n",
    "B = bz._B(n, Dx, Dy, H, K, C)\n",
    "B = bz.block_triang(n, Dx, Dy, dx, dy, deg, B)\n",
    "construction_B_time = time.clock() - t\n",
    "with open(TEX_DIR+'/construction_B_time.txt', 'w') as f:\n",
    "    f.write(\"{0:.4f}\".format(construction_B_time))\n",
    "\n",
    "BB = []\n",
    "for k in range(n+1):\n",
    "        Bk = matrix(Field, B[k])\n",
    "        BB.append(Bk[:, :])\n",
    "bz.bz2txt(n, TEX_DIR, BB)"
   ]
  },
  {
   "cell_type": "raw",
   "metadata": {
    "collapsed": false
   },
   "source": [
    "t = time.clock()\n",
    "b0_rref = BB[0].rref()\n",
    "bz.mat2txt(b0_rref, TEX_DIR+'/b0_rref')\n",
    "b0_rref_time = time.clock() - t\n",
    "with open(TEX_DIR+'/b0_rref_time.txt', 'w') as f:\n",
    "    f.write(\"{0:.4f}\".format(b0_rref_time))"
   ]
  },
  {
   "cell_type": "code",
   "execution_count": 5,
   "metadata": {
    "collapsed": false
   },
   "outputs": [
    {
     "name": "stdout",
     "output_type": "stream",
     "text": [
      "sage_rank = 97\n",
      "numpy_rank = 97\n"
     ]
    }
   ],
   "source": [
    "\"\"\"\n",
    "compute rank of B0\n",
    "\"\"\"\n",
    "t = time.clock()\n",
    "r0 = rank(BB[0])\n",
    "rank_B0_time = time.clock() - t\n",
    "\n",
    "with open(TEX_DIR+'/rank_B0.txt', 'w') as f:\n",
    "    f.write(\"{0:d}\".format(r0))\n",
    "with open(TEX_DIR+'/rank_B0_time.txt', 'w') as f:\n",
    "    f.write(\"{0:.4f}\".format(rank_B0_time))\n",
    "print(\"sage_rank = {0:d}\".format(r0))\n",
    "\n",
    "bb = []\n",
    "for k in range(n+1):\n",
    "    bb.append(np.array(BB[k], dtype=float))\n",
    "\n",
    "b0 = bb[0]\n",
    "numpy_rank = np.linalg.matrix_rank(b0)\n",
    "print(\"numpy_rank = {0:d}\".format(numpy_rank))"
   ]
  },
  {
   "cell_type": "code",
   "execution_count": 6,
   "metadata": {
    "collapsed": false
   },
   "outputs": [
    {
     "name": "stdout",
     "output_type": "stream",
     "text": [
      "(120, 114) 97 6\n",
      "(120, 114) 97 0\n",
      "bbt\n",
      "(114, 120) 97 0\n"
     ]
    }
   ],
   "source": [
    "\"\"\"\n",
    "reduction of Bezoutian matrices\n",
    "\"\"\"\n",
    "epsi = abs(b0).max()/1e5\n",
    "\n",
    "t = time.clock()\n",
    "nb_relations = 1\n",
    "while nb_relations > 0:\n",
    "    bb, r0, nb_relations = bz.iteration(bb, r0, epsi)\n",
    "    print bb[0].shape, r0, nb_relations\n",
    "print \"bbt\"\n",
    "bbt = []\n",
    "for k in range(n+1):\n",
    "    bbt.append(bb[k].T)\n",
    "#bbt = normaliz(bbt, epsi)\n",
    "nb_relations = 1\n",
    "while nb_relations > 0:\n",
    "    bbt, r0, nb_relations = bz.iteration(bbt, r0, epsi)\n",
    "    print bbt[0].shape, r0, nb_relations\n",
    "reductions_time = time.clock() - t\n",
    "with open(TEX_DIR+'/bezout_dim.txt', 'w') as f:\n",
    "    f.write(\"{0:d}\".format(r0))\n",
    "with open(TEX_DIR+'/reductions_time.txt', 'w') as f:\n",
    "    f.write(\"{0:.4f}\".format(reductions_time))"
   ]
  },
  {
   "cell_type": "code",
   "execution_count": 6,
   "metadata": {
    "collapsed": true
   },
   "outputs": [],
   "source": [
    "\"\"\"\n",
    "Numerical compation of the roots\n",
    "\"\"\"\n",
    "t = time.clock()\n",
    "bbt_roots = bz.bbt2roots(bbt, epsi, r0)\n",
    "compute_roots_time = time.clock() - t\n",
    "with open(TEX_DIR+'/compute_roots_time.txt', 'w') as f:\n",
    "    f.write(\"{0:.4f}\".format(compute_roots_time))\n",
    "\n",
    "test_bbtr = bz.roots_test(P, x, bbt_roots)\n",
    "test_roots = np.sort(test_bbtr[:])"
   ]
  },
  {
   "cell_type": "raw",
   "metadata": {
    "collapsed": false
   },
   "source": [
    "import matplotlib.pyplot as plt\n",
    "plt.clf()\n",
    "plt.hist(np.log10(test_roots), bins='auto')  # arguments are passed to np.histogram\n",
    "plt.xlabel('log10 of root error')\n",
    "plt.savefig(TEX_DIR+'/histo_roots.eps')\n",
    "t = time.clock()"
   ]
  },
  {
   "cell_type": "code",
   "execution_count": 7,
   "metadata": {
    "collapsed": true
   },
   "outputs": [],
   "source": [
    "np.savetxt(TEX_DIR+'/test_roots.txt', test_roots,  fmt='%1.3e')"
   ]
  },
  {
   "cell_type": "code",
   "execution_count": 8,
   "metadata": {
    "collapsed": false
   },
   "outputs": [
    {
     "data": {
      "text/plain": [
       "(array([35, 42, 13,  3,  1,  0,  0,  0,  0,  0,  0,  1]),\n",
       " array([-14.48815118, -13.47086812, -12.45358506, -11.436302  ,\n",
       "        -10.41901894,  -9.40173588,  -8.38445282,  -7.36716976,\n",
       "         -6.3498867 ,  -5.33260363,  -4.31532057,  -3.29803751,  -2.28075445]))"
      ]
     },
     "execution_count": 8,
     "metadata": {},
     "output_type": "execute_result"
    }
   ],
   "source": [
    "hist, bin_edges = np.histogram(np.log10(test_roots), bins='scott')\n",
    "hist, bin_edges"
   ]
  },
  {
   "cell_type": "code",
   "execution_count": 9,
   "metadata": {
    "collapsed": false
   },
   "outputs": [],
   "source": [
    "with open(TEX_DIR+'/histogram.txt', 'w') as f:\n",
    "    for k in range(len(hist)):\n",
    "        nb_roots = hist[k]\n",
    "        left_bin, right_bin = bin_edges[k], bin_edges[k+1]\n",
    "        if nb_roots > 0:\n",
    "            if k < len(hist)-1:\n",
    "                f.write(\"$[{0:2.1f}, {1:2.1f}]$ & ${2:d}$\\\\\\\\\\n\".format(left_bin, right_bin, nb_roots))\n",
    "            else:\n",
    "                f.write(\"$[{0:2.1f}, {1:2.1f}]$ & ${2:d}$\\n\".format(left_bin, right_bin, nb_roots))"
   ]
  },
  {
   "cell_type": "code",
   "execution_count": 13,
   "metadata": {
    "collapsed": false
   },
   "outputs": [
    {
     "ename": "AttributeError",
     "evalue": "'module' object has no attribute 'compute_grobner'",
     "output_type": "error",
     "traceback": [
      "\u001b[1;31m------------------------------------------------------------------------\u001b[0m",
      "\u001b[1;31mAttributeError\u001b[0m                         Traceback (most recent call last)",
      "\u001b[1;32m<ipython-input-13-75a06c47e134>\u001b[0m in \u001b[0;36m<module>\u001b[1;34m()\u001b[0m\n\u001b[0;32m      1\u001b[0m \u001b[0mt\u001b[0m \u001b[1;33m=\u001b[0m \u001b[0mtime\u001b[0m\u001b[1;33m.\u001b[0m\u001b[0mclock\u001b[0m\u001b[1;33m(\u001b[0m\u001b[1;33m)\u001b[0m\u001b[1;33m\u001b[0m\u001b[0m\n\u001b[1;32m----> 2\u001b[1;33m \u001b[0mGB\u001b[0m\u001b[1;33m,\u001b[0m \u001b[0mgrobner_dim\u001b[0m \u001b[1;33m=\u001b[0m \u001b[0mbz\u001b[0m\u001b[1;33m.\u001b[0m\u001b[0mcompute_grobner\u001b[0m\u001b[1;33m(\u001b[0m\u001b[0mR\u001b[0m\u001b[1;33m,\u001b[0m \u001b[0mP\u001b[0m\u001b[1;33m,\u001b[0m \u001b[0mn\u001b[0m\u001b[1;33m)\u001b[0m\u001b[1;33m\u001b[0m\u001b[0m\n\u001b[0m\u001b[0;32m      3\u001b[0m \u001b[0mgrobner_time\u001b[0m \u001b[1;33m=\u001b[0m \u001b[0mtime\u001b[0m\u001b[1;33m.\u001b[0m\u001b[0mclock\u001b[0m\u001b[1;33m(\u001b[0m\u001b[1;33m)\u001b[0m \u001b[1;33m-\u001b[0m \u001b[0mt\u001b[0m\u001b[1;33m\u001b[0m\u001b[0m\n\u001b[0;32m      4\u001b[0m \u001b[0mbz\u001b[0m\u001b[1;33m.\u001b[0m\u001b[0mgb2txt\u001b[0m\u001b[1;33m(\u001b[0m\u001b[0mTEX_DIR\u001b[0m\u001b[1;33m,\u001b[0m \u001b[0mGB\u001b[0m\u001b[1;33m)\u001b[0m\u001b[1;33m\u001b[0m\u001b[0m\n\u001b[0;32m      5\u001b[0m \u001b[1;33m\u001b[0m\u001b[0m\n",
      "\u001b[1;31mAttributeError\u001b[0m: 'module' object has no attribute 'compute_grobner'"
     ]
    }
   ],
   "source": [
    "t = time.clock()\n",
    "GB, grobner_dim = bz.compute_grobner(R, P, n)\n",
    "grobner_time = time.clock() - t\n",
    "bz.gb2txt(TEX_DIR, GB)\n",
    "\n",
    "with open(TEX_DIR+'/grobner_dim.txt', 'w') as f:\n",
    "    f.write(\"{0}\".format(grobner_dim))\n",
    "\n",
    "with open(TEX_DIR+'/grobner_time.txt', 'w') as f:\n",
    "    f.write(\"{0:.4f}\".format(grobner_time))\n",
    "\n",
    "#bezout_time = Y_time + X_time\n",
    "#bz.dims2txt(directory, BB, bezout_dim, groebner_dim, Dx, deg)\n",
    "#bz.dims2txt(TEX_DIR, BB, r0, groebner_dim, Dx, deg)\n",
    "#bz.time2txt(directory, bezout_time, groebner_time)\n",
    "#bz.gb2txt(directory, GB)\n"
   ]
  },
  {
   "cell_type": "raw",
   "metadata": {
    "collapsed": false
   },
   "source": [
    "X = matrix(ZZ, Dx, 0)\n",
    "X_ortho = X.kernel().basis_matrix().LLL().transpose()\n",
    "Y, Y_time = bz.BB2Y(BB, X_ortho)\n",
    "print 'nb de Y-relations = ', Y.nrows()\n",
    "\n",
    "K = bz.Y2K(BB[0], X_ortho, Y)\n",
    "X_dim = Dx - K.nrows()\n",
    "print 'X_dim = ', X_dim\n",
    "\n",
    "Y_ortho = Y.right_kernel_matrix().LLL()\n",
    "X, X_time = bz.BB2X(BB, Y_ortho)\n",
    "N = bz.X2N(BB[0], Y_ortho, X)\n",
    "X_ortho = X.kernel().basis_matrix().LLL().transpose()\n",
    "print 'nb de X-relations = ', X.ncols()\n",
    "\n",
    "XBBY = []\n",
    "for k in range(n+1):\n",
    "    XBBY.append(X_ortho.transpose()*BB[k]*Y_ortho.transpose())\n",
    "bezout_dim = rank(XBBY[0])\n",
    "print 'bezout_dim = ', bezout_dim"
   ]
  },
  {
   "cell_type": "raw",
   "metadata": {
    "collapsed": false
   },
   "source": [
    "K_ortho = XBBY[0].kernel().basis_matrix().right_kernel_matrix()\n",
    "N_ortho = N.kernel().basis_matrix().transpose()\n",
    "\n",
    "KBBN = []\n",
    "for k in range(n+1):\n",
    "    KBBN.append(K_ortho*XBBY[k]*N_ortho)\n",
    "\n",
    "XX = []\n",
    "for k in range(n):\n",
    "    xx = KBBN[0].solve_right(KBBN[k+1])\n",
    "    XX.append(xx)\n",
    "\n",
    "test_XX = [norm(bz.X2p(XX, Field, p)) for p in P[:n]]\n",
    "print 'test_XX = ', test_XX"
   ]
  },
  {
   "cell_type": "raw",
   "metadata": {
    "collapsed": true
   },
   "source": [
    "roots = bz.BB2roots(KBBN)\n",
    "test_r = bz.roots_test(P, x, roots)\n",
    "test_r"
   ]
  },
  {
   "cell_type": "raw",
   "metadata": {
    "collapsed": false
   },
   "source": [
    "bz.pol2tex(n, P, TEX_DIR+'/P')"
   ]
  },
  {
   "cell_type": "raw",
   "metadata": {
    "collapsed": false
   },
   "source": [
    "deg"
   ]
  },
  {
   "cell_type": "raw",
   "metadata": {
    "collapsed": false
   },
   "source": [
    "I = R.ideal(P[:n])\n",
    "cpd = I.complete_primary_decomposition()\n",
    "\n",
    "for k in range(len(cpd)):\n",
    "    print cpd[k][0].vector_space_dimension()\n",
    "for k in range(len(cpd)):\n",
    "    print cpd[k][1].vector_space_dimension()"
   ]
  },
  {
   "cell_type": "raw",
   "metadata": {
    "collapsed": false
   },
   "source": [
    "b0 = np.array(BB[0])\n",
    "np.savetxt('b0', b0, fmt='%d')"
   ]
  },
  {
   "cell_type": "raw",
   "metadata": {
    "collapsed": false
   },
   "source": [
    "bz.P2txt(n, deg, P)"
   ]
  },
  {
   "cell_type": "raw",
   "metadata": {
    "collapsed": false
   },
   "source": [
    "directory"
   ]
  },
  {
   "cell_type": "raw",
   "metadata": {
    "collapsed": false
   },
   "source": [
    "def null_space(B, *args):\n",
    "    nr, nc = B.shape\n",
    "    q, r, p = la.qr(B, pivoting=True)\n",
    "    if len(args) > 0:\n",
    "        rb = args[0]\n",
    "    else:\n",
    "        d = np.diag(r)\n",
    "        rb = sum(np.abs(d)>1e-8)\n",
    "    null = q.T[rb:, :]\n",
    "    null_ortho = q.T[:rb, :]\n",
    "    return null, null_ortho\n",
    "\n",
    "def dim_inter(b_rows, y_rows):\n",
    "    y, d, z = la.svd(b_rows.dot(y_rows.T))\n",
    "    return d\n",
    "\n",
    "def relations(ker, bb):\n",
    "    nr, nc = bb[0].shape\n",
    "    y = np.zeros((0, nc))\n",
    "    for k in range(1, n+1):\n",
    "        rel = ker.dot(bb[k])\n",
    "        y = np.concatenate((y, rel), axis=0)\n",
    "    rows_ortho, rows = null_space(y.T)\n",
    "    return rows, rows_ortho\n",
    "\n",
    "def iteration(bb, r0):\n",
    "    bb_out = []\n",
    "    ker, ker_ortho = null_space(bb[0], r0)\n",
    "    b0_ortho, b0_rows = null_space(bb[0].T, r0)\n",
    "    y_rows, y_ortho = relations(ker, bb)\n",
    "    nb_relations = y_rows.shape[0]\n",
    "    if nb_relations > 0:\n",
    "        y, d, z = la.svd(b0_ortho.dot(y_rows.T))\n",
    "        deficit = sum(np.abs(d) < 1e-8)\n",
    "        r0_out = r0 - deficit\n",
    "        for k in range(n+1):\n",
    "            bb_out.append(bb[k].dot(y_ortho.T))\n",
    "    else:\n",
    "        r0_out = r0\n",
    "        for k in range(n+1):\n",
    "            bb_out.append(bb[k])\n",
    "    return bb_out, r0_out, nb_relations\n",
    "\n",
    "def bbt2roots(bbt, r0):\n",
    "    right_ker, right_ortho = null_space(bbt[0], r0)\n",
    "    left_ker, left_ortho = null_space(bbt[0].T, r0)\n",
    "    qrBB = []\n",
    "    n = len(bbt)-1\n",
    "    for k in range(n+1):\n",
    "        qrbbk = right_ortho.dot(bbt[k]).dot(left_ortho.T)\n",
    "        qrBB.append(qrbbk)\n",
    "    b0 = qrBB[0]\n",
    "    bezout_dim = b0.shape[0]\n",
    "    chow_mat = np.zeros((r0, r0))\n",
    "    for k in range(n):\n",
    "        chow_mat += np.random.randn()*qrBB[k+1]\n",
    "    chowchow, b0b0, Q, Z = la.qz(chow_mat, b0, output='complex')\n",
    "    qzBB = []\n",
    "    for k in range(n+1):\n",
    "        bk = qrBB[k]\n",
    "        qzBB.append( Q.T.conjugate().dot(bk).dot(Z) )\n",
    "    roots = np.zeros((r0, n), dtype=complex)\n",
    "    for j in range(n):\n",
    "        roots[:, j] = np.diag(qzBB[j+1])/np.diag(qzBB[0])\n",
    "    return roots\n",
    "\n",
    "def normaliz(bb, epsi):\n",
    "    n = len(bb)-1\n",
    "    nr, nc = bb[0].shape\n",
    "    nbb = []\n",
    "    for k in range(n+1):\n",
    "        nbb.append(np.zeros((nr, nc)))\n",
    "    for i in range(nr):\n",
    "        normi = la.norm(bb[0][i, :])\n",
    "        if normi > epsi:\n",
    "            for k in range(n+1):\n",
    "                nbb[k][i, :] = bb[k][i, :]/normi\n",
    "    return nbb"
   ]
  }
 ],
 "metadata": {
  "anaconda-cloud": {},
  "kernelspec": {
   "display_name": "SageMath 7.3",
   "language": "",
   "name": "sagemath"
  },
  "language_info": {
   "codemirror_mode": {
    "name": "ipython",
    "version": 2
   },
   "file_extension": ".py",
   "mimetype": "text/x-python",
   "name": "python",
   "nbconvert_exporter": "python",
   "pygments_lexer": "ipython2",
   "version": "2.7.10"
  }
 },
 "nbformat": 4,
 "nbformat_minor": 0
}
